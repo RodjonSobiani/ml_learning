{
 "cells": [
  {
   "cell_type": "markdown",
   "id": "59fcd2a0",
   "metadata": {},
   "source": [
    "**Импорт необходимых библиотек и модулей**"
   ]
  },
  {
   "cell_type": "code",
   "execution_count": 1,
   "id": "0f59b75f",
   "metadata": {},
   "outputs": [],
   "source": [
    "import random\n",
    "import numpy as np\n",
    "import pandas as pd\n",
    "from random import randint"
   ]
  },
  {
   "cell_type": "markdown",
   "id": "9eb05833",
   "metadata": {},
   "source": [
    "---\n",
    "### Раздел 1 (Условия)"
   ]
  },
  {
   "cell_type": "markdown",
   "id": "90e57c3f",
   "metadata": {},
   "source": [
    "**Задание 1**\n",
    "\n",
    "Даны три целых числа. Определите, сколько среди них совпадающих. Программа должна вывести одно из чисел: 3 (если все совпадают), 2 (если два совпадает) или 0 (если все числа различны)."
   ]
  },
  {
   "cell_type": "code",
   "execution_count": 2,
   "id": "e5610df1",
   "metadata": {},
   "outputs": [
    {
     "name": "stdout",
     "output_type": "stream",
     "text": [
      "4 10 4\n",
      "2\n"
     ]
    }
   ],
   "source": [
    "a = random.randint(0, 10)\n",
    "b = random.randint(0, 10)\n",
    "c = random.randint(0, 10)\n",
    "\n",
    "# a = 3\n",
    "# b = 3\n",
    "# c = 3\n",
    "\n",
    "print(a, b, c)\n",
    "\n",
    "if a == b == c:\n",
    "    print(3)\n",
    "elif a == b or a == c or c == b:\n",
    "    print(2)\n",
    "else:\n",
    "    print(0)"
   ]
  },
  {
   "cell_type": "markdown",
   "id": "66398e7d",
   "metadata": {},
   "source": [
    "---\n",
    "### Раздел 2 (Циклы)"
   ]
  },
  {
   "cell_type": "markdown",
   "id": "4e99a02a",
   "metadata": {},
   "source": [
    "**Задание 1**\n",
    "\n",
    "Задан массив из n чисел. Напишите программу, которая считает и выводит количество чисел равных нулю."
   ]
  },
  {
   "cell_type": "code",
   "execution_count": 14,
   "id": "d1d76e01",
   "metadata": {},
   "outputs": [
    {
     "name": "stdout",
     "output_type": "stream",
     "text": [
      "[  1   0   7  -4  -1   0 -10  -2  -7  -7]\n",
      "Количество нулей в массиве:  2\n"
     ]
    },
    {
     "data": {
      "text/plain": [
       "numpy.ndarray"
      ]
     },
     "execution_count": 14,
     "metadata": {},
     "output_type": "execute_result"
    }
   ],
   "source": [
    "import array\n",
    "\n",
    "# n = int(input('Пожалуйста, введите количество элементов массива: '))\n",
    "n = random.randint(10, 10)\n",
    "a = np.array([random.randint(-10, 10) for i in range(n)])\n",
    "\n",
    "zeroCount = 0\n",
    "for i in a:\n",
    "    if i == 0:\n",
    "        zeroCount += 1\n",
    "print(a)\n",
    "print('Количество нулей в массиве: ', zeroCount)\n",
    "type(a)"
   ]
  },
  {
   "cell_type": "markdown",
   "id": "0226635a",
   "metadata": {},
   "source": [
    "**Задание 2**\n",
    "\n",
    "Используя циклы, напишите код, который бы выводил данную фигуру:\n",
    "\n",
    "![Необходимое изображение](data:image/png;base64,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)"
   ]
  },
  {
   "cell_type": "code",
   "execution_count": 16,
   "id": "94bbf98d",
   "metadata": {},
   "outputs": [
    {
     "name": "stdout",
     "output_type": "stream",
     "text": [
      "        1\n",
      "        21\n",
      "        321\n",
      "        4321\n",
      "        54321\n",
      "        654321\n",
      "        7654321\n",
      " 1234567\n",
      "  123456\n",
      "   12345\n",
      "    1234\n",
      "     123\n",
      "      12\n",
      "       1\n"
     ]
    }
   ],
   "source": [
    "# n = int(input('Пожалуйста, введите число: '))\n",
    "n = np.random.randint(0, 10)\n",
    "for i in range(1, n):\n",
    "    print(' ' * n, end='')\n",
    "    for j in range(i, 0, -1):\n",
    "        print(j, end='')\n",
    "    print('')\n",
    "for i in range(1, n):\n",
    "    for j in range(i):\n",
    "        print(' ', end='')\n",
    "    for j in range(n-i):\n",
    "        print(j+1, end='')\n",
    "    print('')"
   ]
  },
  {
   "cell_type": "markdown",
   "id": "92206a9e",
   "metadata": {},
   "source": [
    "---\n",
    "### Раздел 3 (Строки/Числа)"
   ]
  },
  {
   "cell_type": "markdown",
   "id": "b691d03f",
   "metadata": {},
   "source": [
    "**Задание 1**\n",
    "\n",
    "Пароль считается надежным, если его длина составляет не менее 12 символов, при этом он должен содержать хотя бы одну заглавную букву, хотя бы одну строчную букву, хотя бы одну цифру и хотя бы один спецсимвол. Напишите код, который обрабатывает строковые данные и выводит сообщение о том, надежен ли пароль или нет. В случае, если пароль не надежен, код должен выдавать рекомендации для усиления надежности пароля."
   ]
  },
  {
   "cell_type": "code",
   "execution_count": 18,
   "id": "7fc3e8fa",
   "metadata": {},
   "outputs": [
    {
     "name": "stdout",
     "output_type": "stream",
     "text": [
      "Пожалуйста, введите строку: qwe123qwe\n",
      "Пожалуйста, добавьте как минимум 3 символов в Ваш пароль.\n",
      "Пожалуйста, добавьте хотя бы один заглавный символ.\n",
      "Пожалуйста, добавьте хотя бы один спецсимвол в Ваш пароль.\n"
     ]
    }
   ],
   "source": [
    "password = input('Пожалуйста, введите строку: ')\n",
    "\n",
    "def testPass(*args):\n",
    "    specialSymbols = '!\"#$%&\\'()*+,-./:;<=>?@[\\]^_`{|}~'\n",
    "    count = 0\n",
    "    w = u = l = d = s = True\n",
    "    if (len(password) < 12):\n",
    "        print(f'Пожалуйста, добавьте как минимум', 12-len(password), 'символов в Ваш пароль.')\n",
    "        w = False\n",
    "\n",
    "    if (any(char.isupper() for char in password)) == False:\n",
    "        print('Пожалуйста, добавьте хотя бы один заглавный символ.')\n",
    "        u = False\n",
    "\n",
    "    if (any(char.islower() for char in password)) == False:\n",
    "        print('Пожалуйста, добавьте хотя бы один строчный символ.')\n",
    "        l = False\n",
    "\n",
    "    if (any(char.isdigit() for char in password)) == False:\n",
    "        print('Пожалуйста, добавьте хотя бы одну цифру.')\n",
    "        d = False\n",
    "\n",
    "    for char in password:\n",
    "        if char in specialSymbols:\n",
    "            count += 1\n",
    "    if count == 0:\n",
    "        print('Пожалуйста, добавьте хотя бы один спецсимвол в Ваш пароль.')\n",
    "        s = False\n",
    "\n",
    "    if (w & u & l & d & s == True):\n",
    "        print('Ваш пароль надёжный!')\n",
    "        \n",
    "    return\n",
    "\n",
    "testPass(password)"
   ]
  },
  {
   "cell_type": "markdown",
   "id": "6525f0c6",
   "metadata": {},
   "source": [
    "---\n",
    "### Раздел 4 (Списки)"
   ]
  },
  {
   "cell_type": "markdown",
   "id": "8d08b29b",
   "metadata": {},
   "source": [
    "**Задание 1**\n",
    "\n",
    "Задан список с числами. Напишите программу, которая выводит все элементы списка, которые больше предыдущего, в виде отдельного списка."
   ]
  },
  {
   "cell_type": "code",
   "execution_count": 19,
   "id": "e505043f",
   "metadata": {},
   "outputs": [
    {
     "name": "stdout",
     "output_type": "stream",
     "text": [
      "[6, 5, 6, 6, 9, 3, 3, 8, 8, 3]\n",
      "[6, 9, 8]\n"
     ]
    }
   ],
   "source": [
    "n = random.randint(10, 10)\n",
    "a = [random.randint(1, 10) for i in range(n)]\n",
    "na = []\n",
    "print(a)\n",
    "for i in range(len(a) - 1):\n",
    "    if (a[i] < a[i+1]):\n",
    "        na.append(a[i+1])\n",
    "print(na)"
   ]
  },
  {
   "cell_type": "markdown",
   "id": "8e373abb",
   "metadata": {},
   "source": [
    "---\n",
    "### Раздел 5 (Словари)"
   ]
  },
  {
   "cell_type": "markdown",
   "id": "327767f9",
   "metadata": {},
   "source": [
    "**Задание 1**\n",
    "\n",
    "Напишите программу, которая принимает список строк и выводит количество повторений данных строк в списке."
   ]
  },
  {
   "cell_type": "code",
   "execution_count": 21,
   "id": "a2ada967",
   "metadata": {
    "scrolled": true
   },
   "outputs": [
    {
     "name": "stdout",
     "output_type": "stream",
     "text": [
      "Список:  ['vrdkv', 'dolmioi']\n",
      "Число повторений:  {'vrdkv': 1, 'dolmioi': 1}\n"
     ]
    }
   ],
   "source": [
    "import random\n",
    "import string\n",
    "\n",
    "def getRandomNumber():\n",
    "    n = random.randint(1, 10)\n",
    "    return n\n",
    "\n",
    "def getRandomString():\n",
    "    r = ''.join(random.choices(string.ascii_lowercase, k = getRandomNumber()))\n",
    "    return r\n",
    "\n",
    "list = []\n",
    "\n",
    "for i in range(getRandomNumber()):\n",
    "    a = getRandomString()\n",
    "    if (len(a) < 5):\n",
    "        list.append(a)\n",
    "    list.append(a)\n",
    "    \n",
    "dict = {i:list.count(i) for i in list}\n",
    "\n",
    "print('Список: ', list)\n",
    "print('Число повторений: ', dict)"
   ]
  },
  {
   "cell_type": "markdown",
   "id": "60292690",
   "metadata": {},
   "source": [
    "---\n",
    "### Раздел 6 (Множества)"
   ]
  },
  {
   "cell_type": "markdown",
   "id": "c6753c98",
   "metadata": {},
   "source": [
    "**Задание 1**\n",
    "\n",
    "Даны два множества чисел. Напишите программу, которая определяет, является ли первое множество подмножеством второго. Множество является подмножеством другого множества, если все данные первого совпадают с частью данных из второго. Если множества совпадают, они не являются подмножествами друг друга."
   ]
  },
  {
   "cell_type": "code",
   "execution_count": 26,
   "id": "aa4319d9",
   "metadata": {},
   "outputs": [
    {
     "name": "stdout",
     "output_type": "stream",
     "text": [
      "{8, 4, 6}\n",
      "{3, 4, 5, 6, 8, 9, 10}\n",
      "Подмножество\n"
     ]
    }
   ],
   "source": [
    "x1 = random.randint(1, 10)\n",
    "x2 = random.randint(1, 10)\n",
    "\n",
    "y1 = set()\n",
    "y2 = set()\n",
    "\n",
    "y1 = {random.randint(1, 10) for i in range(x1)}\n",
    "y2 = {random.randint(1, 10) for i in range(x2)}\n",
    "    \n",
    "print(y1)\n",
    "print(y2)\n",
    "\n",
    "if y1 != y2:\n",
    "    if (y1.issubset(y2)):\n",
    "        print('Подмножество')\n",
    "    else:\n",
    "        print('Не подмножество')"
   ]
  },
  {
   "cell_type": "markdown",
   "id": "c275cc9e",
   "metadata": {},
   "source": [
    "---\n",
    "### Раздел 7 (Функции)"
   ]
  },
  {
   "cell_type": "markdown",
   "id": "7ba56df5",
   "metadata": {},
   "source": [
    "**Задание 1**\n",
    "\n",
    "Напишите программу, которая принимает арифметическое выражение в качестве аргумента и выводит результат этого выражения."
   ]
  },
  {
   "cell_type": "code",
   "execution_count": 27,
   "id": "dbe7f0f2",
   "metadata": {},
   "outputs": [
    {
     "data": {
      "text/plain": [
       "1600"
      ]
     },
     "execution_count": 27,
     "metadata": {},
     "output_type": "execute_result"
    }
   ],
   "source": [
    "def arifmetics(*args):\n",
    "    result = eval(args[0])\n",
    "    return result\n",
    "\n",
    "arifmetics('((2+3)*(5+3))**2')"
   ]
  },
  {
   "cell_type": "markdown",
   "id": "9b6ea383",
   "metadata": {},
   "source": [
    "---\n",
    "### Раздел 8 (Файлы)"
   ]
  },
  {
   "cell_type": "markdown",
   "id": "83b30f46",
   "metadata": {},
   "source": [
    "**Задание 1**\n",
    "\n",
    "В данной задаче вам будет необходимо работать с заранее подготовленным файлом, представленным ниже. Текстовый файл находится в ZIP архиве, вам необходимо скачать его, распаковать и переместить текстовый документ в папку, где будет лежать файл с программой для решения данной задачи. \n",
    "Файл представляет собой список данных людей со следующими заголовками:\n",
    "\n",
    "EMAIL | NAME | LAST_NAME | TEL | CITY\n",
    "----- | ---- | --------- | --- | ----\n",
    "\n",
    "\n",
    "Столбец EMAIL пустой у всех. Остальные позиции могут быть заполнены или нет.\n",
    "Представим следующую ситуацию: вы являетесь сотрудником IT отдела некой компании. Ваша компания открывает новый филиал с переводом необходимого количества сотрудников из разных городов. Новый филиал имеет свой почтовый домен. Вам, как сотруднику IT отдела, необходимо создать каждому сотруднику, переходящему в новый филиал, свой уникальный почтовый адрес. У вас есть неотформатированный список сотрудников, который заполняли непонятно как. Также у вас есть кусок кода - функция, которая по имени и фамилии сотрудника составляет его уникальный почтовый адрес. Для выполнения данного задания вам необходимо написать программу, удовлетворяющую следующим требованиям:\n",
    "\n",
    "1) Программа должна читать исходный текстовый файл\n",
    "\n",
    "2) Программа должна содержать функцию, представленную ниже, для создания почтовых адресов\n",
    "\n",
    "3) Программа должна заполнить пустой столбец с почтовыми адресами в исходном файле и перезаписать его\n",
    "\n",
    "4) Почтовый адрес должен создаваться только для тех, у кого заполнены все остальные поля - Имя, Фамилия, Телефонный номер, Город\n",
    "\n",
    "5) Телефонный номер считается валидным, если он состоит из 7 цифр, в противном случае информация невалидна и программа не должна создавать почтовый адрес сотруднику\n",
    "\n",
    "После выполнения вашей программы исходный текстовый файл должен быть заполнен информацией с почтовыми адресами сотрудников. "
   ]
  },
  {
   "cell_type": "code",
   "execution_count": 29,
   "id": "aeaf5946",
   "metadata": {},
   "outputs": [
    {
     "name": "stdout",
     "output_type": "stream",
     "text": [
      "Список успешно сформирован!\n",
      "                            1             2             3         4                5\n",
      "1                       EMAIL          NAME     LAST_NAME       TEL           CITY\\n\n",
      "2        Abramov.I@company.io          Ivan       Abramov   7776514           Moscow\n",
      "3       Nikolaev.A@company.io        Alexey      Nikolaev   1348520           Moscow\n",
      "4         Shapar.M@company.io        Marina        Shapar   1111110           Moscow\n",
      "5                                   Dmitriy      Vasilyev   0000000          Kazan\\n\n",
      "6                                 Ekaterina        Ilyina            St.Petersburg\\n\n",
      "7      Grigoryan.A@company.io    Anastasiya     Grigoryan   1928421     Ekaterinburg\n",
      "8                                    Andrey       Fedorov  85212384          Minsk\\n\n",
      "9       Lisitsyn.A@company.io        Alexey      Lisitsyn   1239532             Tver\n",
      "10      Abramova.D@company.io        Dariya      Abramova   7163908           Moscow\n",
      "11                                 Alexandr     Evdokimov       482    Volokolamsk\\n\n",
      "12       Kostina.N@company.io      Nataliya       Kostina   9031433           Moscow\n",
      "13       Ermolin.N@company.io       Nikolay       Ermolin   8539233    St.Petersburg\n",
      "14                                                                                \\n\n",
      "15      Solovovo.V@company.io      Vladimir      Solovovo   4758395    St.Petersburg\n",
      "16        Ivanov.V@company.io      Vladimir        Ivanov   4827594      Novosibirsk\n",
      "17      Nikolaev.S@company.io        Sergey      Nikolaev   1294375            Sarov\n",
      "18        Ivanov.I@company.io          Ivan        Ivanov   8532354            Kazan\n",
      "19       Semenov.K@company.io    Konstantin       Semenov   8532286           Moscow\n",
      "20       Smirnov.G@company.io      Grigoriy       Smirnov   3249235      Kaliningrad\n",
      "21                                  Vasiliy                 7123465         Moscow\\n\n",
      "22        Lashko.A@company.io      Alexandr        Lashko   9548324    St.Petersburg\n",
      "23                                   sdfsdf         dwfef   9994532         Rostov\\n\n",
      "24         Edger.O@company.io        Oksana         Edger   8548433         Kostroma\n",
      "25    Bogomolova.O@company.io          Olga    Bogomolova   8953253           Moscow\n",
      "26        Strizh.E@company.io       Evgeniy        Strizh   1123313        Krasnodar\n",
      "27                                Valentina       Sergach  12345567  St.Petersburg\\n\n",
      "28      Volskaya.P@company.io        Polina      Volskaya   1394542         Vladimir\n",
      "29       Malinin.F@company.io         Fedor       Malinin   9453223           Moscow\n",
      "30      Pahomova.O@company.io          Olga      Pahomova   8543231           Moscow\n",
      "31                                     ffff          ffff      ffff          fffff\\n\n",
      "32      Bogdanov.S@company.io        Stepan      Bogdanov   4564624    St.Petersburg\n",
      "33                                  Dmitriy       Smirnov   9355r24          Kazan\\n\n",
      "34                                  Valeria   Kolokolkina   12O4352  St.Petersburg\\n\n",
      "35       Sobolev.I@company.io          Ivan       Sobolev   2350223            Kirov\n",
      "36        Orlova.K@company.io      Kristina        Orlova   1342349          Talnakh\n",
      "37       Ermolin.A@company.io      Alexandr       Ermolin   2345234         Mozhaysk\n",
      "38  Vasilevskaya.E@company.io     Ekaterina  Vasilevskaya   9583573           Moscow\n",
      "39      Koroleva.T@company.io       Tatiana      Koroleva   8674532           Vidnoe\n",
      "40      Moskvina.E@company.io         Elena      Moskvina   7584294           Moscow\n",
      "41                                                          8954245         Moscow\\n\n",
      "42         Sinev.M@company.io       Mikhail         Sinev   5964353    St.Petersburg\n",
      "43                                  NO_NAME       NO_NAME   2856735    Kaliningrad\\n\n",
      "44       Boshich.A@company.io    Anastasiya       Boshich   9654534             Omsk\n",
      "45     Kapustina.S@company.io      Svetlana     Kapustina   9476353           Moscow\n",
      "46      Nikolaev.B@company.io         Boris      Nikolaev   9583583           Moscow\n",
      "47       Mozgvin.A@company.io        Andrey       Mozgvin   8537572        Krasnodar\n",
      "48    Bogatyreva.O@company.io        Oksana    Bogatyreva   8743565    St.Petersburg\n",
      "49     Nosatenko.K@company.io       Kseniya     Nosatenko   1234194        Yaroslavl\n",
      "50                             fwefwgwgwfds       sfewrfw   9584356          Pskov\\n\n",
      "51     Grigoriev.K@company.io    Konstantin     Grigoriev   1284575           Moscow\n"
     ]
    }
   ],
   "source": [
    "def email_gen(list_of_names):\n",
    "    emails = []\n",
    "    for i in list_of_names:\n",
    "        letter = 1\n",
    "        while i[1] + '.' + i[0][0:letter] + '@company.io' in emails:\n",
    "            letter+=1\n",
    "        emails.append(i[1] + '.' + i[0][0:letter] + '@company.io')\n",
    "    return emails\n",
    "\n",
    "with open('task_file.txt', 'r') as file:\n",
    "    array = [row.strip() for row in file]\n",
    "\n",
    "dict = {i:array.count(i) for i in array}\n",
    "linesList = [[i]*dict[i] for i in dict]\n",
    "\n",
    "count = 0\n",
    "names = []\n",
    "valids = []\n",
    "namesList = []\n",
    "listOfAllLines = []\n",
    "\n",
    "for i in linesList:\n",
    "    for j in i:\n",
    "        col = j.split(', ')\n",
    "        if (\n",
    "            col[3].isnumeric()\n",
    "            and len(col[3]) == 7\n",
    "            and int(col[3]) > 1 and int(col[3]) <= 9999999\n",
    "            and col[1].istitle()\n",
    "            and col[2].istitle()\n",
    "           ):\n",
    "            names.append(col[1] + ' ' + col[2])\n",
    "            valids.append(col)\n",
    "\n",
    "for i in names:\n",
    "    name = i.split(' ')\n",
    "    namesList.append(name)\n",
    "    \n",
    "emails = email_gen(namesList)\n",
    "\n",
    "for i in range(len(valids)):\n",
    "    for j in range(len(valids[i])):\n",
    "        valids[i][0] = emails[i]\n",
    "    \n",
    "with open('task_file.txt', 'r') as f1, open('task_file1.txt', 'w') as f2:\n",
    "    lines = f1.readlines()\n",
    "    for i, line in enumerate(lines):\n",
    "        listOfAllLines.append(line.split(', '))\n",
    "    for i in range(len(listOfAllLines)):\n",
    "        if listOfAllLines[i][1:4] != valids[count][1:4]:\n",
    "            f2.write(', '.join(listOfAllLines[i]))\n",
    "        else:\n",
    "            listOfAllLines[i] = valids[count]\n",
    "            f2.write(', '.join(valids[count]))\n",
    "            f2.write('\\n')\n",
    "            count += 1\n",
    "\n",
    "pd.options.display.expand_frame_repr = False\n",
    "df = pd.DataFrame(listOfAllLines)\n",
    "df = pd.DataFrame(listOfAllLines, columns=[i + 1 for i in df.columns])\n",
    "df.index = [i + 1 for i in range(len(df))]\n",
    "print('Список успешно сформирован!')\n",
    "print(df)"
   ]
  },
  {
   "cell_type": "markdown",
   "id": "01a93351",
   "metadata": {},
   "source": [
    "---\n",
    "### Раздел 9 (Модули)"
   ]
  },
  {
   "cell_type": "markdown",
   "id": "6908a115",
   "metadata": {},
   "source": [
    "**Задание 1**\n",
    "\n",
    "В задание к разделу \"Строки\" задача состояла в написании программы, проверяющей надежность пароля. В данном упражнении вам необходимо написать функцию, которая будет генерировать тот самый надежный пароль случайным образом."
   ]
  },
  {
   "cell_type": "code",
   "execution_count": 30,
   "id": "be7ff5df",
   "metadata": {},
   "outputs": [
    {
     "name": "stdout",
     "output_type": "stream",
     "text": [
      "Случайный пароль: .286>5c8L250^3@55\n"
     ]
    }
   ],
   "source": [
    "MIN_ASCII = 33\n",
    "MAX_ASCII = 126\n",
    "\n",
    "def randomPassword():\n",
    "    randomLength = random.randint(12, 16)\n",
    "    result = \"\"\n",
    "    for i in range(randomLength):\n",
    "        randomChar = chr(random.randint(MIN_ASCII, MAX_ASCII))\n",
    "        randomNumber = str(random.randint(0, 9))\n",
    "        result = result + randomChar + randomNumber\n",
    "        if len(result) >= 16:\n",
    "            break\n",
    "    return result + randomNumber\n",
    "\n",
    "print(\"Случайный пароль:\", randomPassword())"
   ]
  },
  {
   "cell_type": "markdown",
   "id": "a44a186d",
   "metadata": {},
   "source": [
    "---\n",
    "### Итог"
   ]
  },
  {
   "cell_type": "markdown",
   "id": "7f488edf",
   "metadata": {},
   "source": [
    "Вам нужно написать программу, которая будет читать файл из предыдущего упражнения(Раздел 8), заниматься его чисткой, формировать почтовые адреса для сотрудников, генерировать пароли безопасности для входа в почту, заносить информацию в этот файл и перезаписывать его.\n",
    "\n",
    "1) Вы можете использовать предыдущие наработки\n",
    "\n",
    "2) Ваша программа должна очистить файл от всех невалидных данных (строки с пустыми данными, некорректными именами, некорректными телефонами и городами)\n",
    "\n",
    "3) При очистке исходного файла, все невалидные данные должны удаляться из него и сохраняться в отдельный текстовый файл\n",
    "\n",
    "4) Поиск информации в файле должен осуществляться с помощью регулярных выражений\n",
    "\n",
    "5) Разрешается использовать готовую функцию формирования почтового адреса или написать свою\n",
    "\n",
    "6) Сгенерированные пароли должны заноситься в исходный файл в отдельный столбец \"PASSWORD\""
   ]
  },
  {
   "cell_type": "code",
   "execution_count": 31,
   "id": "c7efbeb0",
   "metadata": {},
   "outputs": [
    {
     "name": "stdout",
     "output_type": "stream",
     "text": [
      "                            1           2             3        4              5                    6\n",
      "1                       EMAIL        NAME     LAST_NAME      TEL           CITY           PASSWORD\\n\n",
      "2        Abramov.I@company.io        Ivan       Abramov  7776514         Moscow  /0#4o2n4N1\\4l5o11\\n\n",
      "3       Nikolaev.A@company.io      Alexey      Nikolaev  1348520         Moscow  5538a7B0w7~132|33\\n\n",
      "4         Shapar.M@company.io      Marina        Shapar  1111110         Moscow  .52778H0m1J6]6_77\\n\n",
      "5      Grigoryan.A@company.io  Anastasiya     Grigoryan  1928421   Ekaterinburg  x0%8,2d6i1w8g4a55\\n\n",
      "6       Lisitsyn.A@company.io      Alexey      Lisitsyn  1239532           Tver  @8p9S4B0^324Z0B77\\n\n",
      "7       Abramova.D@company.io      Dariya      Abramova  7163908         Moscow  z2n81138_975a3\"88\\n\n",
      "8        Kostina.N@company.io    Nataliya       Kostina  9031433         Moscow  b8=285i0z1{1z7?22\\n\n",
      "9        Ermolin.N@company.io     Nikolay       Ermolin  8539233  St.Petersburg  L9u4B6q0c5z5q4U55\\n\n",
      "10      Solovovo.V@company.io    Vladimir      Solovovo  4758395  St.Petersburg  f3K5n7h5u4t6c4t66\\n\n",
      "11        Ivanov.V@company.io    Vladimir        Ivanov  4827594    Novosibirsk  T2n1H3&1f9p3{4s11\\n\n",
      "12      Nikolaev.S@company.io      Sergey      Nikolaev  1294375          Sarov  =0A1Q2X4a4Y7A7L66\\n\n",
      "13        Ivanov.I@company.io        Ivan        Ivanov  8532354          Kazan  .6S0,622z704V2i88\\n\n",
      "14       Semenov.K@company.io  Konstantin       Semenov  8532286         Moscow  77R4<1P1&1Y0;0822\\n\n",
      "15       Smirnov.G@company.io    Grigoriy       Smirnov  3249235    Kaliningrad  @331!1_7@9~7%5|22\\n\n",
      "16        Lashko.A@company.io    Alexandr        Lashko  9548324  St.Petersburg  E8R7*370R4l3'7Z00\\n\n",
      "17         Edger.O@company.io      Oksana         Edger  8548433       Kostroma  ~482h4U9N3.327#77\\n\n",
      "18    Bogomolova.O@company.io        Olga    Bogomolova  8953253         Moscow  R0&8k0T920C1k7j22\\n\n",
      "19        Strizh.E@company.io     Evgeniy        Strizh  1123313      Krasnodar  38X0{907l8f3$0H55\\n\n",
      "20      Volskaya.P@company.io      Polina      Volskaya  1394542       Vladimir  I900w3R1^3n9z0_00\\n\n",
      "21       Malinin.F@company.io       Fedor       Malinin  9453223         Moscow  \"7a0c086#3&1}9c66\\n\n",
      "22      Pahomova.O@company.io        Olga      Pahomova  8543231         Moscow  /0K180?896K1Z8<55\\n\n",
      "23      Bogdanov.S@company.io      Stepan      Bogdanov  4564624  St.Petersburg  U014/6M3l0P4Z6h44\\n\n",
      "24       Sobolev.I@company.io        Ivan       Sobolev  2350223          Kirov  ?9#7*9y416_6U7044\\n\n",
      "25        Orlova.K@company.io    Kristina        Orlova  1342349        Talnakh  p6S8)0f2l2H3g9m00\\n\n",
      "26       Ermolin.A@company.io    Alexandr       Ermolin  2345234       Mozhaysk  ]304k2q0$3O1h6v11\\n\n",
      "27  Vasilevskaya.E@company.io   Ekaterina  Vasilevskaya  9583573         Moscow  v0G2+9&9~1y3d5744\\n\n",
      "28      Koroleva.T@company.io     Tatiana      Koroleva  8674532         Vidnoe  {4C0p5|4w8,4N1|99\\n\n",
      "29      Moskvina.E@company.io       Elena      Moskvina  7584294         Moscow  p6Q3Z7M7W9T618,66\\n\n",
      "30         Sinev.M@company.io     Mikhail         Sinev  5964353  St.Petersburg  :8X5[3y5I3r2'7x33\\n\n",
      "31       Boshich.A@company.io  Anastasiya       Boshich  9654534           Omsk  X0$0.9}3k2D1E0*44\\n\n",
      "32     Kapustina.S@company.io    Svetlana     Kapustina  9476353         Moscow  (0'6[9v8l8Y431122\\n\n",
      "33      Nikolaev.B@company.io       Boris      Nikolaev  9583583         Moscow  Z5H7.4'1t1$6V9g22\\n\n",
      "34       Mozgvin.A@company.io      Andrey       Mozgvin  8537572      Krasnodar  _8:4t8'095,9P0/11\\n\n",
      "35    Bogatyreva.O@company.io      Oksana    Bogatyreva  8743565  St.Petersburg  63*3g3X4>7:9l8#66\\n\n",
      "36     Nosatenko.K@company.io     Kseniya     Nosatenko  1234194      Yaroslavl  c2N5L6y6X1A7S8L11\\n\n",
      "37     Grigoriev.K@company.io  Konstantin     Grigoriev  1284575         Moscow  u418)2Z398b3H7<88\\n\n"
     ]
    }
   ],
   "source": [
    "def email_gen(list_of_names):\n",
    "    emails = []\n",
    "    for i in list_of_names:\n",
    "        letter = 1\n",
    "        while i[1] + '.' + i[0][0:letter] + '@company.io' in emails:\n",
    "            letter+=1\n",
    "        emails.append(i[1] + '.' + i[0][0:letter] + '@company.io')\n",
    "    return emails\n",
    "\n",
    "with open('task_file.txt', 'r') as file:\n",
    "    array = [row.strip() for row in file]\n",
    "\n",
    "dict = {i:array.count(i) for i in array}\n",
    "linesList = [[i]*dict[i] for i in dict]\n",
    "\n",
    "count = 0\n",
    "names = []\n",
    "valids = []\n",
    "namesList = []\n",
    "listOfAllLines = []\n",
    "\n",
    "for i in linesList:\n",
    "    for j in i:\n",
    "        col = j.split(', ')\n",
    "        if (\n",
    "            col[3].isnumeric()\n",
    "            and len(col[3]) == 7\n",
    "            and int(col[3]) > 1 and int(col[3]) <= 9999999\n",
    "            and col[1].istitle()\n",
    "            and col[2].istitle()\n",
    "           ):\n",
    "            names.append(col[1] + ' ' + col[2])\n",
    "            valids.append(col)\n",
    "\n",
    "for i in names:\n",
    "    name = i.split(' ')\n",
    "    namesList.append(name)\n",
    "    \n",
    "emails = email_gen(namesList)\n",
    "\n",
    "for i in range(len(valids)):\n",
    "    for j in range(len(valids[i])):\n",
    "        valids[i][0] = emails[i]\n",
    "    \n",
    "with open('task_file.txt', 'r') as f1, open('task_file2.txt', 'w') as f2:\n",
    "    print(\"EMAIL, NAME, LAST_NAME, TEL, CITY, PASSWORD\", file=f2)\n",
    "    lines = f1.readlines()\n",
    "    for i in valids:\n",
    "        f2.write(', '.join(i + randomPassword().split(' ')))\n",
    "        f2.write(', '.join('\\n'))\n",
    "\n",
    "with open('task_file2.txt', 'r') as f2:\n",
    "    data = []\n",
    "    lines = f2.readlines()\n",
    "    for i in lines:\n",
    "        data.append(i.split(', '))\n",
    "        \n",
    "\n",
    "pd.options.display.expand_frame_repr = False\n",
    "df = pd.DataFrame(data)\n",
    "df = pd.DataFrame(data, columns=[i + 1 for i in df.columns])\n",
    "df.index = [i + 1 for i in range(len(df))]\n",
    "print(df)"
   ]
  }
 ],
 "metadata": {
  "kernelspec": {
   "display_name": "Python 3 (ipykernel)",
   "language": "python",
   "name": "python3"
  },
  "language_info": {
   "codemirror_mode": {
    "name": "ipython",
    "version": 3
   },
   "file_extension": ".py",
   "mimetype": "text/x-python",
   "name": "python",
   "nbconvert_exporter": "python",
   "pygments_lexer": "ipython3",
   "version": "3.9.12"
  }
 },
 "nbformat": 4,
 "nbformat_minor": 5
}
