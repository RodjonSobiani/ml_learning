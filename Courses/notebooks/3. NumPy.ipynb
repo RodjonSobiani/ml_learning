{
 "cells": [
  {
   "cell_type": "code",
   "execution_count": 1,
   "id": "b64aac90",
   "metadata": {},
   "outputs": [],
   "source": [
    "import numpy as np"
   ]
  },
  {
   "cell_type": "code",
   "execution_count": 2,
   "id": "6f5f0c37",
   "metadata": {},
   "outputs": [
    {
     "name": "stdout",
     "output_type": "stream",
     "text": [
      "from list: \n",
      "[   4    8   15   16   23 4255], dtype: int32, shape: (6,)\n",
      "from tuple: \n",
      "[1.41421356 2.71828183 3.14159265], dtype: float64, shape: (3,)\n"
     ]
    }
   ],
   "source": [
    "some_list = [4, 8, 15, 16, 23, 4255]\n",
    "some_tuple = (np.sqrt(2), np.exp(1), np.pi)\n",
    "\n",
    "from_list = np.array(some_list)\n",
    "from_tuple = np.array(some_tuple)\n",
    "\n",
    "print(f'from list: \\n{from_list}, dtype: {from_list.dtype}, shape: {from_list.shape}')\n",
    "print(f'from tuple: \\n{from_tuple}, dtype: {from_tuple.dtype}, shape: {from_tuple.shape}')"
   ]
  },
  {
   "cell_type": "code",
   "execution_count": 3,
   "id": "309d25e4",
   "metadata": {},
   "outputs": [
    {
     "name": "stdout",
     "output_type": "stream",
     "text": [
      "from set: \n",
      "['м' 'у' 'а' ' ' 'р' 'л' 'ы'], dtype: <U1, shape: (7,)\n",
      "from string: \n",
      "['мама' 'мыла' 'раму'], dtype: <U4, shape: (3,)\n"
     ]
    },
    {
     "data": {
      "text/plain": [
       "array(['сестра', 'мыла', 'раму'], dtype='<U15')"
      ]
     },
     "execution_count": 3,
     "metadata": {},
     "output_type": "execute_result"
    }
   ],
   "source": [
    "some_set = set('мама мыла раму')\n",
    "some_string = 'мама мыла раму'\n",
    "\n",
    "from_set = np.array(list(some_set))\n",
    "from_string = np.array(some_string.split()) # Можно здесь , dtype='<U15'\n",
    "\n",
    "print(f'from set: \\n{from_set}, dtype: {from_set.dtype}, shape: {from_set.shape}')\n",
    "print(f'from string: \\n{from_string}, dtype: {from_string.dtype}, shape: {from_string.shape}')\n",
    "\n",
    "from_string = from_string.astype('<U15')\n",
    "from_string[0] = 'сестра'\n",
    "\n",
    "from_string"
   ]
  },
  {
   "cell_type": "code",
   "execution_count": 4,
   "id": "920f9aab",
   "metadata": {},
   "outputs": [
    {
     "data": {
      "text/plain": [
       "array([[1, 2, 3],\n",
       "       [4, 5, 6]])"
      ]
     },
     "execution_count": 4,
     "metadata": {},
     "output_type": "execute_result"
    }
   ],
   "source": [
    "list_in_list = [[1,2,3],[4,5,6]]\n",
    "matrix = np.array(list_in_list)\n",
    "matrix"
   ]
  },
  {
   "cell_type": "code",
   "execution_count": 5,
   "id": "77f80ec1",
   "metadata": {},
   "outputs": [
    {
     "data": {
      "text/plain": [
       "15"
      ]
     },
     "execution_count": 5,
     "metadata": {},
     "output_type": "execute_result"
    }
   ],
   "source": [
    "list_in_list_in_list = [[[1,2,3],[4,5,6],[7,8,9]],[[10,11,12],[13,14,15],[16,17,18]]]\n",
    "three_d_array = np.array(list_in_list_in_list)\n",
    "three_d_array[1,1,2]\n",
    "# three_d_array"
   ]
  },
  {
   "cell_type": "code",
   "execution_count": 6,
   "id": "ab24038e",
   "metadata": {},
   "outputs": [
    {
     "data": {
      "text/plain": [
       "array([[6.23042070e-307, 4.67296746e-307, 1.00000000e+000,\n",
       "        1.11263369e-307],\n",
       "       [1.69118515e-306, 1.89146896e-307, 1.37961302e-306,\n",
       "        1.05699242e-307],\n",
       "       [8.01097889e-307, 1.78020169e-306, 7.56601165e-307,\n",
       "        1.02359984e-306],\n",
       "       [1.33510679e-306, 2.22522597e-306, 1.33511018e-306,\n",
       "        2.31301135e-312]])"
      ]
     },
     "execution_count": 6,
     "metadata": {},
     "output_type": "execute_result"
    }
   ],
   "source": [
    "shape = (4,4)\n",
    "array = np.ndarray(shape=shape)\n",
    "array[0, 2] = 1\n",
    "array"
   ]
  },
  {
   "cell_type": "code",
   "execution_count": 7,
   "id": "b69b5ae1",
   "metadata": {},
   "outputs": [
    {
     "data": {
      "text/plain": [
       "array([[1., 1., 1., 1.],\n",
       "       [1., 1., 1., 1.],\n",
       "       [1., 1., 1., 1.],\n",
       "       [1., 1., 1., 1.]])"
      ]
     },
     "execution_count": 7,
     "metadata": {},
     "output_type": "execute_result"
    }
   ],
   "source": [
    "zeros = np.ones((4,4)) #zeros\n",
    "zeros"
   ]
  },
  {
   "cell_type": "code",
   "execution_count": 8,
   "id": "276764ec",
   "metadata": {},
   "outputs": [
    {
     "data": {
      "text/plain": [
       "array([255,  45, 246,   1], dtype=uint8)"
      ]
     },
     "execution_count": 8,
     "metadata": {},
     "output_type": "execute_result"
    }
   ],
   "source": [
    "one = np.ones(4, dtype=np.uint8)\n",
    "one[0] -= 2\n",
    "one[1] += 300\n",
    "one[2] *= -10\n",
    "one"
   ]
  },
  {
   "cell_type": "code",
   "execution_count": 9,
   "id": "80e3613f",
   "metadata": {},
   "outputs": [
    {
     "data": {
      "text/plain": [
       "array([0.  , 0.33, 0.66, 0.99, 1.32, 1.65, 1.98, 2.31, 2.64, 2.97, 3.3 ,\n",
       "       3.63, 3.96, 4.29, 4.62, 4.95, 5.28, 5.61, 5.94, 6.27, 6.6 , 6.93,\n",
       "       7.26, 7.59, 7.92, 8.25, 8.58, 8.91, 9.24, 9.57, 9.9 ])"
      ]
     },
     "execution_count": 9,
     "metadata": {},
     "output_type": "execute_result"
    }
   ],
   "source": [
    "np.arange(0,10,.33)"
   ]
  },
  {
   "cell_type": "code",
   "execution_count": 10,
   "id": "45c38522",
   "metadata": {},
   "outputs": [
    {
     "data": {
      "text/plain": [
       "[1, 2, 3, 4, 5, 6, 7, 8, 9, 10]"
      ]
     },
     "execution_count": 10,
     "metadata": {},
     "output_type": "execute_result"
    }
   ],
   "source": [
    "list(range(1,11,1))"
   ]
  },
  {
   "cell_type": "code",
   "execution_count": 11,
   "id": "57fb8b9c",
   "metadata": {},
   "outputs": [
    {
     "data": {
      "text/plain": [
       "<matplotlib.collections.PathCollection at 0x14c45b8a940>"
      ]
     },
     "execution_count": 11,
     "metadata": {},
     "output_type": "execute_result"
    },
    {
     "data": {
      "image/png": "[encoded data removed]",
      "text/plain": [
       "<Figure size 432x288 with 1 Axes>"
      ]
     },
     "metadata": {
      "needs_background": "light"
     },
     "output_type": "display_data"
    }
   ],
   "source": [
    "import matplotlib.pyplot as plt\n",
    "import numpy as np\n",
    "x = np.arange(0,4*np.pi,0.1)\n",
    "plt.plot(x, np.sin(x))\n",
    "plt.scatter(x, np.cos(x))"
   ]
  },
  {
   "cell_type": "code",
   "execution_count": null,
   "id": "ee3ee83d",
   "metadata": {},
   "outputs": [],
   "source": []
  },
  {
   "cell_type": "code",
   "execution_count": null,
   "id": "472d29f8",
   "metadata": {},
   "outputs": [],
   "source": []
  },
  {
   "cell_type": "code",
   "execution_count": 12,
   "id": "302c4da6",
   "metadata": {},
   "outputs": [
    {
     "data": {
      "text/plain": [
       "array([ 1. ,  1.5,  2. ,  2.5,  3. ,  3.5,  4. ,  4.5,  5. ,  5.5,  6. ,\n",
       "        6.5,  7. ,  7.5,  8. ,  8.5,  9. ,  9.5, 10. , 10.5])"
      ]
     },
     "execution_count": 12,
     "metadata": {},
     "output_type": "execute_result"
    }
   ],
   "source": [
    "np.linspace(1,11,20, endpoint=False)"
   ]
  },
  {
   "cell_type": "code",
   "execution_count": 13,
   "id": "a52026e2",
   "metadata": {},
   "outputs": [
    {
     "data": {
      "text/plain": [
       "array([[ 0.13038859,  0.22877117, -0.68236989, -2.11295561, -0.82024469],\n",
       "       [ 3.65404963,  0.98641038,  0.17835748,  0.70901197, -0.56112227],\n",
       "       [-0.23123216, -0.74961768,  0.25552287, -0.5844111 , -0.87620715],\n",
       "       [ 0.60796787,  0.43839088, -1.003142  , -0.15466004,  0.13952608],\n",
       "       [ 1.0381156 ,  0.49695883, -0.30910605,  0.25014626,  2.22363335]])"
      ]
     },
     "execution_count": 13,
     "metadata": {},
     "output_type": "execute_result"
    }
   ],
   "source": [
    "# np.random.randint(1,10, (5,5))\n",
    "# np.random.rand(5,5)\n",
    "np.random.randn(5,5)"
   ]
  },
  {
   "cell_type": "code",
   "execution_count": 14,
   "id": "fdd037a1",
   "metadata": {},
   "outputs": [
    {
     "data": {
      "text/plain": [
       "0.0030958239588507984"
      ]
     },
     "execution_count": 14,
     "metadata": {},
     "output_type": "execute_result"
    },
    {
     "data": {
      "image/png": "[encoded data removed]",
      "text/plain": [
       "<Figure size 432x288 with 1 Axes>"
      ]
     },
     "metadata": {
      "needs_background": "light"
     },
     "output_type": "display_data"
    }
   ],
   "source": [
    "plt.scatter(np.random.randn(10000), np.random.randn(10000))\n",
    "np.median(np.random.randn(10000))"
   ]
  },
  {
   "cell_type": "code",
   "execution_count": 15,
   "id": "7549a103",
   "metadata": {},
   "outputs": [
    {
     "data": {
      "text/plain": [
       "<matplotlib.collections.PathCollection at 0x14c463b3340>"
      ]
     },
     "execution_count": 15,
     "metadata": {},
     "output_type": "execute_result"
    },
    {
     "data": {
      "image/png": "[encoded data removed]",
      "text/plain": [
       "<Figure size 432x288 with 1 Axes>"
      ]
     },
     "metadata": {
      "needs_background": "light"
     },
     "output_type": "display_data"
    }
   ],
   "source": [
    "plt.scatter(np.random.rand(10000), np.random.rand(10000))"
   ]
  },
  {
   "cell_type": "code",
   "execution_count": 16,
   "id": "4607766a",
   "metadata": {},
   "outputs": [
    {
     "data": {
      "text/plain": [
       "array([[10, 40, 90],\n",
       "       [10, 40, 90],\n",
       "       [10, 40, 90]])"
      ]
     },
     "execution_count": 16,
     "metadata": {},
     "output_type": "execute_result"
    }
   ],
   "source": [
    "a = [[10,20,30],[10,20,30],[10,20,30]]\n",
    "b = [[1,2,3],[1,2,3],[1,2,3]]\n",
    "\n",
    "# a + b\n",
    "arr_a = np.array(a)\n",
    "arr_b = np.array(b)\n",
    "arr_a * arr_b"
   ]
  },
  {
   "cell_type": "code",
   "execution_count": 17,
   "id": "d59cdc00",
   "metadata": {},
   "outputs": [
    {
     "data": {
      "text/plain": [
       "array([[ 60, 120, 180],\n",
       "       [ 60, 120, 180],\n",
       "       [ 60, 120, 180]])"
      ]
     },
     "execution_count": 17,
     "metadata": {},
     "output_type": "execute_result"
    }
   ],
   "source": [
    "np.matmul(arr_a, arr_b)"
   ]
  },
  {
   "cell_type": "code",
   "execution_count": 18,
   "id": "8a02e8ff",
   "metadata": {},
   "outputs": [],
   "source": [
    "v1 = np.random.rand(202200)\n",
    "v2 = np.random.rand(202200)\n",
    "\n",
    "list_1 = list(v1)\n",
    "list_2 = list(v2)\n"
   ]
  },
  {
   "cell_type": "code",
   "execution_count": 19,
   "id": "207b8815",
   "metadata": {},
   "outputs": [
    {
     "name": "stdout",
     "output_type": "stream",
     "text": [
      "36.7 ms ± 250 µs per loop (mean ± std. dev. of 7 runs, 10 loops each)\n"
     ]
    }
   ],
   "source": [
    "%%timeit \n",
    "list_3 = []\n",
    "for i in range(len(list_1)):\n",
    "    list_3.append(list_1[i] * list_2[i])\n",
    "sum(list_3)"
   ]
  },
  {
   "cell_type": "code",
   "execution_count": 20,
   "id": "cd3890dc",
   "metadata": {},
   "outputs": [],
   "source": [
    "v1 = np.random.rand(202200)\n",
    "v2 = np.random.rand(202200)"
   ]
  },
  {
   "cell_type": "code",
   "execution_count": 21,
   "id": "4fc4a677",
   "metadata": {},
   "outputs": [
    {
     "name": "stdout",
     "output_type": "stream",
     "text": [
      "429 µs ± 2.54 µs per loop (mean ± std. dev. of 7 runs, 1,000 loops each)\n"
     ]
    }
   ],
   "source": [
    "%%timeit\n",
    "np.sum(v1 * v2)"
   ]
  },
  {
   "cell_type": "code",
   "execution_count": 22,
   "id": "aa752af7",
   "metadata": {},
   "outputs": [
    {
     "data": {
      "text/plain": [
       "33"
      ]
     },
     "execution_count": 22,
     "metadata": {},
     "output_type": "execute_result"
    }
   ],
   "source": [
    "a = [[10,20,30],[11,22,33],[111,222,333]]\n",
    "a[1][2]"
   ]
  },
  {
   "cell_type": "code",
   "execution_count": 23,
   "id": "48605575",
   "metadata": {},
   "outputs": [
    {
     "data": {
      "text/plain": [
       "33"
      ]
     },
     "execution_count": 23,
     "metadata": {},
     "output_type": "execute_result"
    }
   ],
   "source": [
    "a = [[10,20,30],[11,22,33],[111,222,333]]\n",
    "arr = np.array(a)\n",
    "arr[1, 2]"
   ]
  },
  {
   "cell_type": "code",
   "execution_count": 24,
   "id": "c3e90549",
   "metadata": {},
   "outputs": [
    {
     "data": {
      "text/plain": [
       "array([[  1,  30,  60,  -7,  90],\n",
       "       [ 71,  90,  12,  55,  94],\n",
       "       [ 64, -22,  26,  18,  98],\n",
       "       [ 78,   9,  96, -16,  12],\n",
       "       [ 26,  38,   7,  63, -27]])"
      ]
     },
     "execution_count": 24,
     "metadata": {},
     "output_type": "execute_result"
    }
   ],
   "source": [
    "matrix = np.random.randint(-50, 100, (5, 5))\n",
    "matrix"
   ]
  },
  {
   "cell_type": "code",
   "execution_count": 57,
   "id": "f336e4a0",
   "metadata": {},
   "outputs": [
    {
     "data": {
      "text/plain": [
       "array([[ 1, 71, 64, 78, 26],\n",
       "       [30, 90,  0,  9, 38],\n",
       "       [60, 12, 26, 96,  7],\n",
       "       [ 0, 55, 18,  0, 63],\n",
       "       [90, 94, 98, 12,  0]])"
      ]
     },
     "execution_count": 57,
     "metadata": {},
     "output_type": "execute_result"
    }
   ],
   "source": [
    "# mask = matrix < 0\n",
    "# matrix[mask] = 0\n",
    "\n",
    "matrix[matrix < 0] = 0\n",
    "# matrix\n",
    "matrix.T"
   ]
  },
  {
   "cell_type": "code",
   "execution_count": 26,
   "id": "e2640817",
   "metadata": {},
   "outputs": [
    {
     "data": {
      "text/plain": [
       "array([41, 29, 24, 37, 16])"
      ]
     },
     "execution_count": 26,
     "metadata": {},
     "output_type": "execute_result"
    }
   ],
   "source": [
    "arr = np.random.randint(10,50,10)\n",
    "arr[[8,2,1,3,4]]"
   ]
  },
  {
   "cell_type": "code",
   "execution_count": 30,
   "id": "5303ae26",
   "metadata": {},
   "outputs": [
    {
     "data": {
      "text/plain": [
       "array([ 4, 14, 27])"
      ]
     },
     "execution_count": 30,
     "metadata": {},
     "output_type": "execute_result"
    }
   ],
   "source": [
    "arr = np.arange(36).reshape(6,6)\n",
    "arr[[0,2,4],[4,2,3]]"
   ]
  },
  {
   "cell_type": "code",
   "execution_count": 38,
   "id": "158c46a0",
   "metadata": {},
   "outputs": [
    {
     "data": {
      "text/plain": [
       "array([[ 0,  5],\n",
       "       [ 6, 11],\n",
       "       [12, 17],\n",
       "       [18, 23],\n",
       "       [24, 29],\n",
       "       [30, 35]])"
      ]
     },
     "execution_count": 38,
     "metadata": {},
     "output_type": "execute_result"
    }
   ],
   "source": [
    "arr[:, [0,-1]]"
   ]
  },
  {
   "cell_type": "code",
   "execution_count": 41,
   "id": "523f8e53",
   "metadata": {},
   "outputs": [
    {
     "data": {
      "text/plain": [
       "array([ 0.24480705,  0.41933217, -0.31804703, -1.20801293,  1.57977835,\n",
       "       -0.70066589, -2.62825819,  0.37917612, -0.17441339,  0.09226395,\n",
       "       -0.73826031,  1.12542991,  1.03572661,  0.68614267, -1.5430743 ,\n",
       "       -1.73694341, -1.23507545, -0.72764515,  0.22668554, -0.94366165,\n",
       "        1.64791228,  1.38105325, -1.38100786, -0.74214716,  0.69585816,\n",
       "        0.30696273,  0.45282405, -0.29490016, -1.27768568,  0.10988198,\n",
       "       -0.88666041,  1.09692226,  2.83537059, -0.70021452, -1.71366031,\n",
       "        0.10846583,  0.64901608, -0.24290098, -0.5446581 ,  0.85159662,\n",
       "       -1.79540811,  0.04380585,  1.11620729, -0.16639478, -0.15274877,\n",
       "       -1.73751261,  2.42189638, -0.65447799, -0.3442145 , -0.04839582,\n",
       "        1.35659328,  1.45050921,  0.11734482, -0.51364344,  1.53017978,\n",
       "       -0.13617484, -0.83049439,  0.80034502,  1.24791898,  0.22826501,\n",
       "       -0.78645292, -1.18113653, -0.69903996, -0.74738297, -0.16329703,\n",
       "        1.5089572 , -0.29041076, -0.57736894, -0.08426331,  0.7007617 ,\n",
       "        0.00403326, -0.80044351,  0.37635318, -0.4588387 , -1.12154317,\n",
       "        0.5301347 , -0.25910001, -0.60880396, -0.31661652, -0.24762853,\n",
       "       -0.05165241,  0.21985982,  1.21001895, -0.30686963, -1.62204875,\n",
       "        1.30791048,  0.66308538, -0.43695435,  0.3069053 , -0.67885052,\n",
       "        1.25499379,  0.96603261,  0.94239275, -1.58239412,  1.46035338,\n",
       "       -0.33682009, -1.57989301, -1.38351911,  2.12605595,  1.28052657])"
      ]
     },
     "execution_count": 41,
     "metadata": {},
     "output_type": "execute_result"
    }
   ],
   "source": [
    "arr = np.random.randn(100)\n",
    "arr"
   ]
  },
  {
   "cell_type": "code",
   "execution_count": 42,
   "id": "50c136ca",
   "metadata": {},
   "outputs": [
    {
     "data": {
      "text/plain": [
       "-0.013420401272943645"
      ]
     },
     "execution_count": 42,
     "metadata": {},
     "output_type": "execute_result"
    }
   ],
   "source": [
    "arr.mean()"
   ]
  },
  {
   "cell_type": "code",
   "execution_count": 43,
   "id": "bc0473e7",
   "metadata": {},
   "outputs": [
    {
     "data": {
      "text/plain": [
       "-0.013420401272943645"
      ]
     },
     "execution_count": 43,
     "metadata": {},
     "output_type": "execute_result"
    }
   ],
   "source": [
    "np.mean(arr)"
   ]
  },
  {
   "cell_type": "code",
   "execution_count": 44,
   "id": "3a720d1b",
   "metadata": {},
   "outputs": [
    {
     "data": {
      "text/plain": [
       "1.033986594533344"
      ]
     },
     "execution_count": 44,
     "metadata": {},
     "output_type": "execute_result"
    }
   ],
   "source": [
    "np.std(arr)"
   ]
  },
  {
   "cell_type": "code",
   "execution_count": 45,
   "id": "ed7e0584",
   "metadata": {},
   "outputs": [
    {
     "data": {
      "text/plain": [
       "2.8353705853079467"
      ]
     },
     "execution_count": 45,
     "metadata": {},
     "output_type": "execute_result"
    }
   ],
   "source": [
    "np.max(arr)"
   ]
  },
  {
   "cell_type": "code",
   "execution_count": 47,
   "id": "1d3716aa",
   "metadata": {},
   "outputs": [
    {
     "data": {
      "text/plain": [
       "-2.628258185685926"
      ]
     },
     "execution_count": 47,
     "metadata": {},
     "output_type": "execute_result"
    }
   ],
   "source": [
    "np.min(arr)"
   ]
  },
  {
   "cell_type": "code",
   "execution_count": 48,
   "id": "7f946e1e",
   "metadata": {},
   "outputs": [
    {
     "data": {
      "text/plain": [
       "1.0691282776746618"
      ]
     },
     "execution_count": 48,
     "metadata": {},
     "output_type": "execute_result"
    }
   ],
   "source": [
    "np.var(arr)"
   ]
  },
  {
   "cell_type": "code",
   "execution_count": 49,
   "id": "a56e76d2",
   "metadata": {},
   "outputs": [
    {
     "data": {
      "text/plain": [
       "-0.14446180365384656"
      ]
     },
     "execution_count": 49,
     "metadata": {},
     "output_type": "execute_result"
    }
   ],
   "source": [
    "np.median(arr)"
   ]
  },
  {
   "cell_type": "code",
   "execution_count": 68,
   "id": "e8912f05",
   "metadata": {},
   "outputs": [
    {
     "data": {
      "text/plain": [
       "array([[ 80, 523, 116, 641, 379],\n",
       "       [423, 402, 756, 817, 469],\n",
       "       [258, 201, 390, 262, 852],\n",
       "       [127, 204, 539, 325, 286],\n",
       "       [692, 193, 399, 473, 369]])"
      ]
     },
     "execution_count": 68,
     "metadata": {},
     "output_type": "execute_result"
    }
   ],
   "source": [
    "arr = np.random.randint(0,1000, (5,5))\n",
    "arr"
   ]
  },
  {
   "cell_type": "code",
   "execution_count": 63,
   "id": "6121722d",
   "metadata": {},
   "outputs": [
    {
     "data": {
      "text/plain": [
       "array([783, 791, 563, 922, 848])"
      ]
     },
     "execution_count": 63,
     "metadata": {},
     "output_type": "execute_result"
    }
   ],
   "source": [
    "arr.max(axis=0) # столбцы"
   ]
  },
  {
   "cell_type": "code",
   "execution_count": 69,
   "id": "7ca8cf20",
   "metadata": {},
   "outputs": [
    {
     "data": {
      "text/plain": [
       "array([641, 817, 852, 539, 692])"
      ]
     },
     "execution_count": 69,
     "metadata": {},
     "output_type": "execute_result"
    }
   ],
   "source": [
    "arr.max(axis=1) # строки"
   ]
  }
 ],
 "metadata": {
  "kernelspec": {
   "display_name": "Python 3 (ipykernel)",
   "language": "python",
   "name": "python3"
  },
  "language_info": {
   "codemirror_mode": {
    "name": "ipython",
    "version": 3
   },
   "file_extension": ".py",
   "mimetype": "text/x-python",
   "name": "python",
   "nbconvert_exporter": "python",
   "pygments_lexer": "ipython3",
   "version": "3.9.12"
  }
 },
 "nbformat": 4,
 "nbformat_minor": 5
}
