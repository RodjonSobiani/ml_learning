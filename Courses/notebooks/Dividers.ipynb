{
 "cells": [
  {
   "cell_type": "code",
   "execution_count": 2,
   "id": "f657900d",
   "metadata": {},
   "outputs": [
    {
     "name": "stdout",
     "output_type": "stream",
     "text": [
      "Введите целое число: 9846\n",
      "4923\n",
      "3282\n",
      "1641\n",
      "1094\n",
      "547\n",
      "18\n",
      "9\n",
      "6\n",
      "3\n",
      "2\n",
      "Минимальный равен: 2\n",
      "Максимальный равен: 4923\n"
     ]
    }
   ],
   "source": [
    "numb = int(input(\"Введите целое число: \"))\n",
    "min_divider = numb\n",
    "max_divider = 1\n",
    "for i in range(numb - 1, 1, -1):\n",
    "    if (numb % i == 0):\n",
    "        print(i)\n",
    "        if (min_divider > i):\n",
    "            min_divider = i\n",
    "        if (max_divider < i):\n",
    "            max_divider = i\n",
    "print(\"Минимальный равен:\", min_divider)\n",
    "print(\"Максимальный равен:\", max_divider)"
   ]
  }
 ],
 "metadata": {
  "kernelspec": {
   "display_name": "Python 3 (ipykernel)",
   "language": "python",
   "name": "python3"
  },
  "language_info": {
   "codemirror_mode": {
    "name": "ipython",
    "version": 3
   },
   "file_extension": ".py",
   "mimetype": "text/x-python",
   "name": "python",
   "nbconvert_exporter": "python",
   "pygments_lexer": "ipython3",
   "version": "3.9.12"
  }
 },
 "nbformat": 4,
 "nbformat_minor": 5
}
