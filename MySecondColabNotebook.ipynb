{
 "nbformat": 4,
 "nbformat_minor": 0,
 "metadata": {
  "colab": {
   "name": "MySecondColabNotebook.ipynb",
   "provenance": [],
   "collapsed_sections": [],
   "authorship_tag": "ABX9TyOkLL5ZG9whDpoSWFeYbdEa",
   "include_colab_link": true
  },
  "kernelspec": {
   "name": "python3",
   "display_name": "Python 3"
  },
  "language_info": {
   "name": "python"
  },
  "gpuClass": "standard",
  "accelerator": "GPU"
 },
 "cells": [
  {
   "cell_type": "markdown",
   "metadata": {
    "id": "view-in-github",
    "colab_type": "text",
    "pycharm": {
     "name": "#%% md\n"
    }
   },
   "source": [
    "<a href=\"https://colab.research.google.com/github/RodjonSobiani/ml_learning/blob/main/MySecondColabNotebook.ipynb\" target=\"_parent\"><img src=\"https://colab.research.google.com/assets/colab-badge.svg\" alt=\"Open In Colab\"/></a>"
   ]
  },
  {
   "cell_type": "code",
   "execution_count": 11,
   "metadata": {
    "id": "2cZk8-kxTnMD",
    "pycharm": {
     "name": "#%%\n"
    }
   },
   "outputs": [],
   "source": [
    "import torch"
   ]
  },
  {
   "cell_type": "code",
   "source": [
    "% ldir"
   ],
   "metadata": {
    "colab": {
     "base_uri": "https://localhost:8080/"
    },
    "id": "W-ANYhLBVc66",
    "outputId": "5f60f619-abaf-4a04-ab7e-c6b5909cd1e4",
    "pycharm": {
     "name": "#%%\n"
    }
   },
   "execution_count": 9,
   "outputs": [
    {
     "output_type": "stream",
     "name": "stdout",
     "text": [
      "drwx------ 5 root 4096 Jun 14 09:13 \u001B[0m\u001B[01;34mdrive\u001B[0m/\n",
      "drwxr-xr-x 3 root 4096 Jun 14 09:24 \u001B[01;34mkeras-mnist-tutorial\u001B[0m/\n",
      "drwxr-xr-x 1 root 4096 Jun  1 13:50 \u001B[01;34msample_data\u001B[0m/\n"
     ]
    }
   ]
  },
  {
   "cell_type": "code",
   "source": [
    "%%html\n",
    "<marquee style='width: 50%; color: Green;'><b>Welcome to Tutorialspoint!</b></marquee>"
   ],
   "metadata": {
    "colab": {
     "base_uri": "https://localhost:8080/",
     "height": 39
    },
    "id": "608Gz7v0Vg7_",
    "outputId": "eaaa7d78-796b-49c8-be23-6d8c542f1237",
    "pycharm": {
     "name": "#%%\n"
    }
   },
   "execution_count": 10,
   "outputs": [
    {
     "output_type": "display_data",
     "data": {
      "text/plain": [
       "<IPython.core.display.HTML object>"
      ],
      "text/html": [
       "<marquee style='width: 50%; color: Green;'><b>Welcome to Tutorialspoint!</b></marquee>\n"
      ]
     },
     "metadata": {}
    }
   ]
  },
  {
   "cell_type": "code",
   "source": [
    "%%html\n",
    "<svg xmlns=\"http://www.w3.org/2000/svg\" viewBox=\"0 0 600 400\" width=\"400\"\n",
    "height=\"400\">\n",
    " <rect x=\"10\" y=\"00\" width=\"300\" height=\"100\" rx=\"0\" style=\"fill:orange;\n",
    "stroke:black; fill-opacity:1.0\" />\n",
    " <rect x=\"10\" y=\"100\" width=\"300\" height=\"100\" rx=\"0\" style=\"fill:white;\n",
    "stroke:black; fill-opacity:1.0;\" />\n",
    " <rect x=\"10\" y=\"200\" width=\"300\" height=\"100\" rx=\"0\" style=\"fill:green;\n",
    "stroke:black; fill-opacity:1.0;\" />\n",
    "</svg>"
   ],
   "metadata": {
    "colab": {
     "base_uri": "https://localhost:8080/",
     "height": 421
    },
    "id": "xNHVWVDFVwn4",
    "outputId": "127d01cd-2aa4-4aaa-aa32-f011b65be8b3",
    "pycharm": {
     "name": "#%%\n"
    }
   },
   "execution_count": 11,
   "outputs": [
    {
     "output_type": "display_data",
     "data": {
      "text/plain": [
       "<IPython.core.display.HTML object>"
      ],
      "text/html": [
       "<svg xmlns=\"http://www.w3.org/2000/svg\" viewBox=\"0 0 600 400\" width=\"400\"\n",
       "height=\"400\">\n",
       " <rect x=\"10\" y=\"00\" width=\"300\" height=\"100\" rx=\"0\" style=\"fill:orange;\n",
       "stroke:black; fill-opacity:1.0\" />\n",
       " <rect x=\"10\" y=\"100\" width=\"300\" height=\"100\" rx=\"0\" style=\"fill:white;\n",
       "stroke:black; fill-opacity:1.0;\" />\n",
       " <rect x=\"10\" y=\"200\" width=\"300\" height=\"100\" rx=\"0\" style=\"fill:green;\n",
       "stroke:black; fill-opacity:1.0;\" />\n",
       "</svg>"
      ]
     },
     "metadata": {}
    }
   ]
  },
  {
   "cell_type": "code",
   "source": [
    "% lsmagic"
   ],
   "metadata": {
    "id": "Cvt_tVy7V0Yo",
    "pycharm": {
     "name": "#%%\n"
    }
   },
   "execution_count": null,
   "outputs": []
  },
  {
   "cell_type": "code",
   "source": [
    "#@title Form\n",
    "sleeptime = 2  #@param {type:\"integer\"}"
   ],
   "metadata": {
    "id": "y_Gjm88sWI_s",
    "pycharm": {
     "name": "#%%\n"
    }
   },
   "execution_count": 19,
   "outputs": []
  },
  {
   "cell_type": "code",
   "source": [
    "import time\n",
    "\n",
    "print(time.ctime())\n",
    "time.sleep(sleeptime)\n",
    "print(time.ctime())"
   ],
   "metadata": {
    "colab": {
     "base_uri": "https://localhost:8080/"
    },
    "id": "M4wVjSGYXAmi",
    "outputId": "9888553c-4aa6-4d76-968e-367ec6894c2c",
    "pycharm": {
     "name": "#%%\n"
    }
   },
   "execution_count": 20,
   "outputs": [
    {
     "output_type": "stream",
     "name": "stdout",
     "text": [
      "Tue Jun 14 08:38:48 2022\n",
      "Tue Jun 14 08:38:50 2022\n"
     ]
    }
   ]
  },
  {
   "cell_type": "code",
   "source": [
    "name = 'Tutorialspoint'  #@param {type:\"string\"}\n",
    "print(name)"
   ],
   "metadata": {
    "colab": {
     "base_uri": "https://localhost:8080/"
    },
    "id": "X11b1yQiXr6r",
    "outputId": "a0c28ffd-98c9-4c92-b5f3-8a51c482298c",
    "pycharm": {
     "name": "#%%\n"
    }
   },
   "execution_count": 21,
   "outputs": [
    {
     "output_type": "stream",
     "name": "stdout",
     "text": [
      "Tutorialspoint\n"
     ]
    }
   ]
  },
  {
   "cell_type": "code",
   "source": [
    "color = 'blue'  #@param [\"red\", \"green\", \"blue\"]\n",
    "print(color)"
   ],
   "metadata": {
    "colab": {
     "base_uri": "https://localhost:8080/"
    },
    "id": "Vf_wawEuXr0t",
    "outputId": "e23ea4c8-32b9-4716-a541-6758a859073b",
    "pycharm": {
     "name": "#%%\n"
    }
   },
   "execution_count": 24,
   "outputs": [
    {
     "output_type": "stream",
     "name": "stdout",
     "text": [
      "blue\n"
     ]
    }
   ]
  },
  {
   "cell_type": "code",
   "source": [
    "#@title Date fields\n",
    "date_input = '2022-06-14'  #@param {type:\"date\"}\n",
    "print(date_input)"
   ],
   "metadata": {
    "colab": {
     "base_uri": "https://localhost:8080/"
    },
    "id": "cHHGwIcvYFqX",
    "outputId": "f4bc8948-8d55-4ba8-8513-2cc291b2138c",
    "pycharm": {
     "name": "#%%\n"
    }
   },
   "execution_count": 28,
   "outputs": [
    {
     "output_type": "stream",
     "name": "stdout",
     "text": [
      "2022-06-14\n"
     ]
    }
   ]
  },
  {
   "cell_type": "code",
   "source": [
    "!pip install -q keras"
   ],
   "metadata": {
    "id": "Jzlc1I7DYp2s",
    "pycharm": {
     "name": "#%%\n"
    }
   },
   "execution_count": 29,
   "outputs": []
  },
  {
   "cell_type": "code",
   "source": [
    "!pip3 install torch torchvision"
   ],
   "metadata": {
    "colab": {
     "base_uri": "https://localhost:8080/"
    },
    "id": "kVwxdBVDY0Cv",
    "outputId": "ea8fc9fb-f793-4322-ba5c-7225fcb9f19f",
    "pycharm": {
     "name": "#%%\n"
    }
   },
   "execution_count": 30,
   "outputs": [
    {
     "output_type": "stream",
     "name": "stdout",
     "text": [
      "Looking in indexes: https://pypi.org/simple, https://us-python.pkg.dev/colab-wheels/public/simple/\n",
      "Requirement already satisfied: torch in /usr/local/lib/python3.7/dist-packages (1.11.0+cu113)\n",
      "Requirement already satisfied: torchvision in /usr/local/lib/python3.7/dist-packages (0.12.0+cu113)\n",
      "Requirement already satisfied: typing-extensions in /usr/local/lib/python3.7/dist-packages (from torch) (4.2.0)\n",
      "Requirement already satisfied: pillow!=8.3.*,>=5.3.0 in /usr/local/lib/python3.7/dist-packages (from torchvision) (7.1.2)\n",
      "Requirement already satisfied: numpy in /usr/local/lib/python3.7/dist-packages (from torchvision) (1.21.6)\n",
      "Requirement already satisfied: requests in /usr/local/lib/python3.7/dist-packages (from torchvision) (2.23.0)\n",
      "Requirement already satisfied: chardet<4,>=3.0.2 in /usr/local/lib/python3.7/dist-packages (from requests->torchvision) (3.0.4)\n",
      "Requirement already satisfied: idna<3,>=2.5 in /usr/local/lib/python3.7/dist-packages (from requests->torchvision) (2.10)\n",
      "Requirement already satisfied: certifi>=2017.4.17 in /usr/local/lib/python3.7/dist-packages (from requests->torchvision) (2022.5.18.1)\n",
      "Requirement already satisfied: urllib3!=1.25.0,!=1.25.1,<1.26,>=1.21.1 in /usr/local/lib/python3.7/dist-packages (from requests->torchvision) (1.24.3)\n"
     ]
    }
   ]
  },
  {
   "cell_type": "code",
   "source": [
    "!apt install libnvrtc8.0\n",
    "!pip install mxnet-cu80"
   ],
   "metadata": {
    "colab": {
     "base_uri": "https://localhost:8080/"
    },
    "id": "TL5eMwdWY9ld",
    "outputId": "8e959bf0-dc90-47cb-a00f-9355d87edb98",
    "pycharm": {
     "name": "#%%\n"
    }
   },
   "execution_count": 31,
   "outputs": [
    {
     "output_type": "stream",
     "name": "stdout",
     "text": [
      "Reading package lists... Done\n",
      "Building dependency tree       \n",
      "Reading state information... Done\n",
      "E: Unable to locate package libnvrtc8.0\n",
      "E: Couldn't find any package by glob 'libnvrtc8.0'\n",
      "E: Couldn't find any package by regex 'libnvrtc8.0'\n",
      "Looking in indexes: https://pypi.org/simple, https://us-python.pkg.dev/colab-wheels/public/simple/\n",
      "Collecting mxnet-cu80\n",
      "  Downloading mxnet_cu80-1.5.0-py2.py3-none-manylinux1_x86_64.whl (372.1 MB)\n",
      "\u001B[K     |████████████████████████████████| 372.1 MB 39 kB/s \n",
      "\u001B[?25hRequirement already satisfied: numpy<2.0.0,>1.16.0 in /usr/local/lib/python3.7/dist-packages (from mxnet-cu80) (1.21.6)\n",
      "Requirement already satisfied: requests<3,>=2.20.0 in /usr/local/lib/python3.7/dist-packages (from mxnet-cu80) (2.23.0)\n",
      "Collecting graphviz<0.9.0,>=0.8.1\n",
      "  Downloading graphviz-0.8.4-py2.py3-none-any.whl (16 kB)\n",
      "Requirement already satisfied: urllib3!=1.25.0,!=1.25.1,<1.26,>=1.21.1 in /usr/local/lib/python3.7/dist-packages (from requests<3,>=2.20.0->mxnet-cu80) (1.24.3)\n",
      "Requirement already satisfied: certifi>=2017.4.17 in /usr/local/lib/python3.7/dist-packages (from requests<3,>=2.20.0->mxnet-cu80) (2022.5.18.1)\n",
      "Requirement already satisfied: chardet<4,>=3.0.2 in /usr/local/lib/python3.7/dist-packages (from requests<3,>=2.20.0->mxnet-cu80) (3.0.4)\n",
      "Requirement already satisfied: idna<3,>=2.5 in /usr/local/lib/python3.7/dist-packages (from requests<3,>=2.20.0->mxnet-cu80) (2.10)\n",
      "Installing collected packages: graphviz, mxnet-cu80\n",
      "  Attempting uninstall: graphviz\n",
      "    Found existing installation: graphviz 0.10.1\n",
      "    Uninstalling graphviz-0.10.1:\n",
      "      Successfully uninstalled graphviz-0.10.1\n",
      "Successfully installed graphviz-0.8.4 mxnet-cu80-1.5.0\n"
     ]
    }
   ]
  },
  {
   "cell_type": "code",
   "source": [
    "!pip install h5py\n",
    "!pip install typing-extensions\n",
    "!pip install wheel"
   ],
   "metadata": {
    "colab": {
     "base_uri": "https://localhost:8080/"
    },
    "id": "tOk1UXOfdbRc",
    "outputId": "5e90b8ce-d08c-4cfe-bf74-1d4b3b05c23d",
    "pycharm": {
     "name": "#%%\n"
    }
   },
   "execution_count": 35,
   "outputs": [
    {
     "output_type": "stream",
     "name": "stdout",
     "text": [
      "Looking in indexes: https://pypi.org/simple, https://us-python.pkg.dev/colab-wheels/public/simple/\n",
      "Requirement already satisfied: h5py in /usr/local/lib/python3.7/dist-packages (3.1.0)\n",
      "Requirement already satisfied: numpy>=1.14.5 in /usr/local/lib/python3.7/dist-packages (from h5py) (1.21.6)\n",
      "Requirement already satisfied: cached-property in /usr/local/lib/python3.7/dist-packages (from h5py) (1.5.2)\n",
      "Looking in indexes: https://pypi.org/simple, https://us-python.pkg.dev/colab-wheels/public/simple/\n",
      "Requirement already satisfied: typing-extensions in /usr/local/lib/python3.7/dist-packages (4.2.0)\n",
      "Looking in indexes: https://pypi.org/simple, https://us-python.pkg.dev/colab-wheels/public/simple/\n",
      "Requirement already satisfied: wheel in /usr/local/lib/python3.7/dist-packages (0.37.1)\n"
     ]
    }
   ]
  },
  {
   "cell_type": "code",
   "source": [
    "!apt-get -qq install -y libsm6 libxext6 & & pip install -q -U opencv-python"
   ],
   "metadata": {
    "id": "K3yRS0rZc1bD",
    "pycharm": {
     "name": "#%%\n"
    }
   },
   "execution_count": 36,
   "outputs": []
  },
  {
   "cell_type": "code",
   "source": [
    "!pip install -q xgboost == 0.4a30"
   ],
   "metadata": {
    "colab": {
     "base_uri": "https://localhost:8080/"
    },
    "id": "LMpbJtcHdoSJ",
    "outputId": "ad933cbf-80c5-4c96-a1c9-17110b4aac2c",
    "pycharm": {
     "name": "#%%\n"
    }
   },
   "execution_count": 37,
   "outputs": [
    {
     "output_type": "stream",
     "name": "stdout",
     "text": [
      "\u001B[?25l\r\u001B[K     |▍                               | 10 kB 28.8 MB/s eta 0:00:01\r\u001B[K     |▉                               | 20 kB 12.2 MB/s eta 0:00:01\r\u001B[K     |█▎                              | 30 kB 9.0 MB/s eta 0:00:01\r\u001B[K     |█▊                              | 40 kB 8.0 MB/s eta 0:00:01\r\u001B[K     |██▏                             | 51 kB 4.6 MB/s eta 0:00:01\r\u001B[K     |██▋                             | 61 kB 5.4 MB/s eta 0:00:01\r\u001B[K     |███                             | 71 kB 5.5 MB/s eta 0:00:01\r\u001B[K     |███▌                            | 81 kB 5.3 MB/s eta 0:00:01\r\u001B[K     |████                            | 92 kB 5.8 MB/s eta 0:00:01\r\u001B[K     |████▍                           | 102 kB 5.2 MB/s eta 0:00:01\r\u001B[K     |████▉                           | 112 kB 5.2 MB/s eta 0:00:01\r\u001B[K     |█████▏                          | 122 kB 5.2 MB/s eta 0:00:01\r\u001B[K     |█████▋                          | 133 kB 5.2 MB/s eta 0:00:01\r\u001B[K     |██████                          | 143 kB 5.2 MB/s eta 0:00:01\r\u001B[K     |██████▌                         | 153 kB 5.2 MB/s eta 0:00:01\r\u001B[K     |███████                         | 163 kB 5.2 MB/s eta 0:00:01\r\u001B[K     |███████▍                        | 174 kB 5.2 MB/s eta 0:00:01\r\u001B[K     |███████▉                        | 184 kB 5.2 MB/s eta 0:00:01\r\u001B[K     |████████▎                       | 194 kB 5.2 MB/s eta 0:00:01\r\u001B[K     |████████▊                       | 204 kB 5.2 MB/s eta 0:00:01\r\u001B[K     |█████████▏                      | 215 kB 5.2 MB/s eta 0:00:01\r\u001B[K     |█████████▋                      | 225 kB 5.2 MB/s eta 0:00:01\r\u001B[K     |██████████                      | 235 kB 5.2 MB/s eta 0:00:01\r\u001B[K     |██████████▍                     | 245 kB 5.2 MB/s eta 0:00:01\r\u001B[K     |██████████▉                     | 256 kB 5.2 MB/s eta 0:00:01\r\u001B[K     |███████████▎                    | 266 kB 5.2 MB/s eta 0:00:01\r\u001B[K     |███████████▊                    | 276 kB 5.2 MB/s eta 0:00:01\r\u001B[K     |████████████▏                   | 286 kB 5.2 MB/s eta 0:00:01\r\u001B[K     |████████████▋                   | 296 kB 5.2 MB/s eta 0:00:01\r\u001B[K     |█████████████                   | 307 kB 5.2 MB/s eta 0:00:01\r\u001B[K     |█████████████▌                  | 317 kB 5.2 MB/s eta 0:00:01\r\u001B[K     |██████████████                  | 327 kB 5.2 MB/s eta 0:00:01\r\u001B[K     |██████████████▍                 | 337 kB 5.2 MB/s eta 0:00:01\r\u001B[K     |██████████████▉                 | 348 kB 5.2 MB/s eta 0:00:01\r\u001B[K     |███████████████▏                | 358 kB 5.2 MB/s eta 0:00:01\r\u001B[K     |███████████████▋                | 368 kB 5.2 MB/s eta 0:00:01\r\u001B[K     |████████████████                | 378 kB 5.2 MB/s eta 0:00:01\r\u001B[K     |████████████████▌               | 389 kB 5.2 MB/s eta 0:00:01\r\u001B[K     |█████████████████               | 399 kB 5.2 MB/s eta 0:00:01\r\u001B[K     |█████████████████▍              | 409 kB 5.2 MB/s eta 0:00:01\r\u001B[K     |█████████████████▉              | 419 kB 5.2 MB/s eta 0:00:01\r\u001B[K     |██████████████████▎             | 430 kB 5.2 MB/s eta 0:00:01\r\u001B[K     |██████████████████▊             | 440 kB 5.2 MB/s eta 0:00:01\r\u001B[K     |███████████████████▏            | 450 kB 5.2 MB/s eta 0:00:01\r\u001B[K     |███████████████████▋            | 460 kB 5.2 MB/s eta 0:00:01\r\u001B[K     |████████████████████            | 471 kB 5.2 MB/s eta 0:00:01\r\u001B[K     |████████████████████▍           | 481 kB 5.2 MB/s eta 0:00:01\r\u001B[K     |████████████████████▉           | 491 kB 5.2 MB/s eta 0:00:01\r\u001B[K     |█████████████████████▎          | 501 kB 5.2 MB/s eta 0:00:01\r\u001B[K     |█████████████████████▊          | 512 kB 5.2 MB/s eta 0:00:01\r\u001B[K     |██████████████████████▏         | 522 kB 5.2 MB/s eta 0:00:01\r\u001B[K     |██████████████████████▋         | 532 kB 5.2 MB/s eta 0:00:01\r\u001B[K     |███████████████████████         | 542 kB 5.2 MB/s eta 0:00:01\r\u001B[K     |███████████████████████▌        | 552 kB 5.2 MB/s eta 0:00:01\r\u001B[K     |████████████████████████        | 563 kB 5.2 MB/s eta 0:00:01\r\u001B[K     |████████████████████████▍       | 573 kB 5.2 MB/s eta 0:00:01\r\u001B[K     |████████████████████████▉       | 583 kB 5.2 MB/s eta 0:00:01\r\u001B[K     |█████████████████████████▏      | 593 kB 5.2 MB/s eta 0:00:01\r\u001B[K     |█████████████████████████▋      | 604 kB 5.2 MB/s eta 0:00:01\r\u001B[K     |██████████████████████████      | 614 kB 5.2 MB/s eta 0:00:01\r\u001B[K     |██████████████████████████▌     | 624 kB 5.2 MB/s eta 0:00:01\r\u001B[K     |███████████████████████████     | 634 kB 5.2 MB/s eta 0:00:01\r\u001B[K     |███████████████████████████▍    | 645 kB 5.2 MB/s eta 0:00:01\r\u001B[K     |███████████████████████████▉    | 655 kB 5.2 MB/s eta 0:00:01\r\u001B[K     |████████████████████████████▎   | 665 kB 5.2 MB/s eta 0:00:01\r\u001B[K     |████████████████████████████▊   | 675 kB 5.2 MB/s eta 0:00:01\r\u001B[K     |█████████████████████████████▏  | 686 kB 5.2 MB/s eta 0:00:01\r\u001B[K     |█████████████████████████████▋  | 696 kB 5.2 MB/s eta 0:00:01\r\u001B[K     |██████████████████████████████  | 706 kB 5.2 MB/s eta 0:00:01\r\u001B[K     |██████████████████████████████▍ | 716 kB 5.2 MB/s eta 0:00:01\r\u001B[K     |██████████████████████████████▉ | 727 kB 5.2 MB/s eta 0:00:01\r\u001B[K     |███████████████████████████████▎| 737 kB 5.2 MB/s eta 0:00:01\r\u001B[K     |███████████████████████████████▊| 747 kB 5.2 MB/s eta 0:00:01\r\u001B[K     |████████████████████████████████| 753 kB 5.2 MB/s \n",
      "\u001B[?25h  Building wheel for xgboost (setup.py) ... \u001B[?25l\u001B[?25hdone\n"
     ]
    }
   ]
  },
  {
   "cell_type": "code",
   "source": [
    "!apt-get -qq install -y graphviz & & pip install -q pydot"
   ],
   "metadata": {
    "id": "uij82aLheEHF",
    "pycharm": {
     "name": "#%%\n"
    }
   },
   "execution_count": 38,
   "outputs": []
  },
  {
   "cell_type": "code",
   "source": [
    "!python3 \"/content/sample_data/mnist_test.csv\""
   ],
   "metadata": {
    "id": "GdHuC2NCesoy",
    "pycharm": {
     "name": "#%%\n"
    }
   },
   "execution_count": 5,
   "outputs": []
  },
  {
   "cell_type": "code",
   "source": [
    "# Run this cell to mount your Google Drive.\n",
    "from google.colab import drive\n",
    "\n",
    "drive.mount('/content/drive')"
   ],
   "metadata": {
    "colab": {
     "base_uri": "https://localhost:8080/"
    },
    "id": "ELISLTWWfMEg",
    "outputId": "2d694681-51ce-4414-ae8f-6f29adfde3f6",
    "pycharm": {
     "name": "#%%\n"
    }
   },
   "execution_count": 2,
   "outputs": [
    {
     "output_type": "stream",
     "name": "stdout",
     "text": [
      "Mounted at /content/drive\n"
     ]
    }
   ]
  },
  {
   "cell_type": "code",
   "source": [
    "!git clone https: // github.com / wxs / keras-mnist-tutorial.git"
   ],
   "metadata": {
    "colab": {
     "base_uri": "https://localhost:8080/"
    },
    "id": "fAjGiAg0h0C8",
    "outputId": "6ae8d8ad-2025-479b-aec9-9fb68d26d64d",
    "pycharm": {
     "name": "#%%\n"
    }
   },
   "execution_count": 1,
   "outputs": [
    {
     "output_type": "stream",
     "name": "stdout",
     "text": [
      "Cloning into 'keras-mnist-tutorial'...\n",
      "remote: Enumerating objects: 26, done.\u001B[K\n",
      "remote: Total 26 (delta 0), reused 0 (delta 0), pack-reused 26\u001B[K\n",
      "Unpacking objects: 100% (26/26), done.\n"
     ]
    }
   ]
  },
  {
   "cell_type": "code",
   "source": [
    "import tensorflow as tf\n",
    "\n",
    "tf.test.gpu_device_name()"
   ],
   "metadata": {
    "colab": {
     "base_uri": "https://localhost:8080/",
     "height": 35
    },
    "id": "wfrFKn8wl7nM",
    "outputId": "eea4d46e-4e1e-4bd1-ae1e-5576529d05e9",
    "pycharm": {
     "name": "#%%\n"
    }
   },
   "execution_count": 1,
   "outputs": [
    {
     "output_type": "execute_result",
     "data": {
      "text/plain": [
       "'/device:GPU:0'"
      ],
      "application/vnd.google.colaboratory.intrinsic+json": {
       "type": "string"
      }
     },
     "metadata": {},
     "execution_count": 1
    }
   ]
  },
  {
   "cell_type": "code",
   "source": [
    "from tensorflow.python.client import device_lib\n",
    "\n",
    "device_lib.list_local_devices()"
   ],
   "metadata": {
    "colab": {
     "base_uri": "https://localhost:8080/"
    },
    "id": "TUyHTLxGmOdz",
    "outputId": "6d2e92b3-1f3e-4968-84e4-e2a2367f77b5",
    "pycharm": {
     "name": "#%%\n"
    }
   },
   "execution_count": 2,
   "outputs": [
    {
     "output_type": "execute_result",
     "data": {
      "text/plain": [
       "[name: \"/device:CPU:0\"\n",
       " device_type: \"CPU\"\n",
       " memory_limit: 268435456\n",
       " locality {\n",
       " }\n",
       " incarnation: 9690325337402334108\n",
       " xla_global_id: -1, name: \"/device:GPU:0\"\n",
       " device_type: \"GPU\"\n",
       " memory_limit: 14465892352\n",
       " locality {\n",
       "   bus_id: 1\n",
       "   links {\n",
       "   }\n",
       " }\n",
       " incarnation: 16067901038012710110\n",
       " physical_device_desc: \"device: 0, name: Tesla T4, pci bus id: 0000:00:04.0, compute capability: 7.5\"\n",
       " xla_global_id: 416903419]"
      ]
     },
     "metadata": {},
     "execution_count": 2
    }
   ]
  },
  {
   "cell_type": "code",
   "source": [
    "!cat / proc / meminfo"
   ],
   "metadata": {
    "colab": {
     "base_uri": "https://localhost:8080/"
    },
    "id": "duJLMr0Ymdbw",
    "outputId": "e4c42a1e-f172-4aa2-f5eb-cc8880524ec9",
    "pycharm": {
     "name": "#%%\n"
    }
   },
   "execution_count": 3,
   "outputs": [
    {
     "output_type": "stream",
     "name": "stdout",
     "text": [
      "MemTotal:       13298572 kB\n",
      "MemFree:         9164468 kB\n",
      "MemAvailable:   11827104 kB\n",
      "Buffers:          111212 kB\n",
      "Cached:          2521128 kB\n",
      "SwapCached:            0 kB\n",
      "Active:          1544048 kB\n",
      "Inactive:        2237732 kB\n",
      "Active(anon):     910920 kB\n",
      "Inactive(anon):    10704 kB\n",
      "Active(file):     633128 kB\n",
      "Inactive(file):  2227028 kB\n",
      "Unevictable:           0 kB\n",
      "Mlocked:               0 kB\n",
      "SwapTotal:             0 kB\n",
      "SwapFree:              0 kB\n",
      "Dirty:              3816 kB\n",
      "Writeback:             0 kB\n",
      "AnonPages:       1149536 kB\n",
      "Mapped:           712888 kB\n",
      "Shmem:             11452 kB\n",
      "KReclaimable:      88120 kB\n",
      "Slab:             142844 kB\n",
      "SReclaimable:      88120 kB\n",
      "SUnreclaim:        54724 kB\n",
      "KernelStack:        5296 kB\n",
      "PageTables:        12184 kB\n",
      "NFS_Unstable:          0 kB\n",
      "Bounce:                0 kB\n",
      "WritebackTmp:          0 kB\n",
      "CommitLimit:     6649284 kB\n",
      "Committed_AS:    3815336 kB\n",
      "VmallocTotal:   34359738367 kB\n",
      "VmallocUsed:       51340 kB\n",
      "VmallocChunk:          0 kB\n",
      "Percpu:             1528 kB\n",
      "AnonHugePages:         0 kB\n",
      "ShmemHugePages:        0 kB\n",
      "ShmemPmdMapped:        0 kB\n",
      "FileHugePages:         0 kB\n",
      "FilePmdMapped:         0 kB\n",
      "CmaTotal:              0 kB\n",
      "CmaFree:               0 kB\n",
      "HugePages_Total:       0\n",
      "HugePages_Free:        0\n",
      "HugePages_Rsvd:        0\n",
      "HugePages_Surp:        0\n",
      "Hugepagesize:       2048 kB\n",
      "Hugetlb:               0 kB\n",
      "DirectMap4k:      205632 kB\n",
      "DirectMap2M:     6082560 kB\n",
      "DirectMap1G:     9437184 kB\n"
     ]
    }
   ]
  }
 ]
}