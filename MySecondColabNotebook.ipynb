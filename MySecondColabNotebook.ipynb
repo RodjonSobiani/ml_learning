{
  "nbformat": 4,
  "nbformat_minor": 0,
  "metadata": {
    "colab": {
      "name": "MySecondColabNotebook.ipynb",
      "provenance": [],
      "collapsed_sections": [],
      "authorship_tag": "ABX9TyOKyJ60ZL1hRekvqy4OMgoj"
    },
    "kernelspec": {
      "name": "python3",
      "display_name": "Python 3"
    },
    "language_info": {
      "name": "python"
    },
    "accelerator": "GPU",
    "gpuClass": "standard"
  },
  "cells": [
    {
      "cell_type": "code",
      "execution_count": 11,
      "metadata": {
        "id": "2cZk8-kxTnMD"
      },
      "outputs": [],
      "source": [
        "import torch"
      ]
    },
    {
      "cell_type": "code",
      "source": [
        "Tensor = torch.cos()"
      ],
      "metadata": {
        "colab": {
          "base_uri": "https://localhost:8080/",
          "height": 165
        },
        "id": "1kc2eIDDT3u2",
        "outputId": "09188b72-c981-4b0b-a07d-d079cb4ab831"
      },
      "execution_count": 12,
      "outputs": [
        {
          "output_type": "error",
          "ename": "TypeError",
          "evalue": "ignored",
          "traceback": [
            "\u001b[0;31m---------------------------------------------------------------------------\u001b[0m",
            "\u001b[0;31mTypeError\u001b[0m                                 Traceback (most recent call last)",
            "\u001b[0;32m<ipython-input-12-a3189b67d611>\u001b[0m in \u001b[0;36m<module>\u001b[0;34m()\u001b[0m\n\u001b[0;32m----> 1\u001b[0;31m \u001b[0mTensor\u001b[0m \u001b[0;34m=\u001b[0m \u001b[0mtorch\u001b[0m\u001b[0;34m.\u001b[0m\u001b[0mcos\u001b[0m\u001b[0;34m(\u001b[0m\u001b[0;34m)\u001b[0m\u001b[0;34m\u001b[0m\u001b[0;34m\u001b[0m\u001b[0m\n\u001b[0m",
            "\u001b[0;31mTypeError\u001b[0m: cos() missing 1 required positional arguments: \"input\""
          ]
        }
      ]
    },
    {
      "cell_type": "code",
      "source": [
        "%ldir"
      ],
      "metadata": {
        "id": "W-ANYhLBVc66"
      },
      "execution_count": null,
      "outputs": []
    },
    {
      "cell_type": "code",
      "source": [
        "%%html\n",
        "<marquee style='width: 50%; color: Green;'><b>Welcome to Tutorialspoint!</b></marquee>\n",
        "\n"
      ],
      "metadata": {
        "id": "608Gz7v0Vg7_"
      },
      "execution_count": null,
      "outputs": []
    },
    {
      "cell_type": "code",
      "source": [
        "%%html\n",
        "<svg xmlns=\"http://www.w3.org/2000/svg\" viewBox=\"0 0 600 400\" width=\"400\"\n",
        "height=\"400\">\n",
        " <rect x=\"10\" y=\"00\" width=\"300\" height=\"100\" rx=\"0\" style=\"fill:orange;\n",
        "stroke:black; fill-opacity:1.0\" />\n",
        " <rect x=\"10\" y=\"100\" width=\"300\" height=\"100\" rx=\"0\" style=\"fill:white;\n",
        "stroke:black; fill-opacity:1.0;\" />\n",
        " <rect x=\"10\" y=\"200\" width=\"300\" height=\"100\" rx=\"0\" style=\"fill:green;\n",
        "stroke:black; fill-opacity:1.0;\" />\n",
        "</svg>\n"
      ],
      "metadata": {
        "id": "xNHVWVDFVwn4"
      },
      "execution_count": null,
      "outputs": []
    },
    {
      "cell_type": "code",
      "source": [
        "%lsmagic\n"
      ],
      "metadata": {
        "id": "Cvt_tVy7V0Yo"
      },
      "execution_count": null,
      "outputs": []
    },
    {
      "cell_type": "code",
      "source": [
        "#@title Form\n",
        "sleeptime =  2#@param {type:\"integer\"}"
      ],
      "metadata": {
        "id": "y_Gjm88sWI_s"
      },
      "execution_count": 19,
      "outputs": []
    },
    {
      "cell_type": "code",
      "source": [
        "import time\n",
        "print(time.ctime())\n",
        "time.sleep(sleeptime)\n",
        "print (time.ctime())"
      ],
      "metadata": {
        "colab": {
          "base_uri": "https://localhost:8080/"
        },
        "id": "M4wVjSGYXAmi",
        "outputId": "9888553c-4aa6-4d76-968e-367ec6894c2c"
      },
      "execution_count": 20,
      "outputs": [
        {
          "output_type": "stream",
          "name": "stdout",
          "text": [
            "Tue Jun 14 08:38:48 2022\n",
            "Tue Jun 14 08:38:50 2022\n"
          ]
        }
      ]
    },
    {
      "cell_type": "code",
      "source": [
        "name = 'Tutorialspoint' #@param {type:\"string\"}\n",
        "print(name)"
      ],
      "metadata": {
        "colab": {
          "base_uri": "https://localhost:8080/"
        },
        "id": "X11b1yQiXr6r",
        "outputId": "a0c28ffd-98c9-4c92-b5f3-8a51c482298c"
      },
      "execution_count": 21,
      "outputs": [
        {
          "output_type": "stream",
          "name": "stdout",
          "text": [
            "Tutorialspoint\n"
          ]
        }
      ]
    },
    {
      "cell_type": "code",
      "source": [
        "color = 'blue' #@param [\"red\", \"green\", \"blue\"]\n",
        "print(color)"
      ],
      "metadata": {
        "colab": {
          "base_uri": "https://localhost:8080/"
        },
        "id": "Vf_wawEuXr0t",
        "outputId": "e23ea4c8-32b9-4716-a541-6758a859073b"
      },
      "execution_count": 24,
      "outputs": [
        {
          "output_type": "stream",
          "name": "stdout",
          "text": [
            "blue\n"
          ]
        }
      ]
    },
    {
      "cell_type": "code",
      "source": [
        "#@title Date fields\n",
        "date_input = '2022-06-14' #@param {type:\"date\"}\n",
        "print(date_input)"
      ],
      "metadata": {
        "colab": {
          "base_uri": "https://localhost:8080/"
        },
        "id": "cHHGwIcvYFqX",
        "outputId": "f4bc8948-8d55-4ba8-8513-2cc291b2138c"
      },
      "execution_count": 28,
      "outputs": [
        {
          "output_type": "stream",
          "name": "stdout",
          "text": [
            "2022-06-14\n"
          ]
        }
      ]
    },
    {
      "cell_type": "code",
      "source": [
        "!pip install -q keras"
      ],
      "metadata": {
        "id": "Jzlc1I7DYp2s"
      },
      "execution_count": 29,
      "outputs": []
    },
    {
      "cell_type": "code",
      "source": [
        "!pip3 install torch torchvision"
      ],
      "metadata": {
        "colab": {
          "base_uri": "https://localhost:8080/"
        },
        "id": "kVwxdBVDY0Cv",
        "outputId": "ea8fc9fb-f793-4322-ba5c-7225fcb9f19f"
      },
      "execution_count": 30,
      "outputs": [
        {
          "output_type": "stream",
          "name": "stdout",
          "text": [
            "Looking in indexes: https://pypi.org/simple, https://us-python.pkg.dev/colab-wheels/public/simple/\n",
            "Requirement already satisfied: torch in /usr/local/lib/python3.7/dist-packages (1.11.0+cu113)\n",
            "Requirement already satisfied: torchvision in /usr/local/lib/python3.7/dist-packages (0.12.0+cu113)\n",
            "Requirement already satisfied: typing-extensions in /usr/local/lib/python3.7/dist-packages (from torch) (4.2.0)\n",
            "Requirement already satisfied: pillow!=8.3.*,>=5.3.0 in /usr/local/lib/python3.7/dist-packages (from torchvision) (7.1.2)\n",
            "Requirement already satisfied: numpy in /usr/local/lib/python3.7/dist-packages (from torchvision) (1.21.6)\n",
            "Requirement already satisfied: requests in /usr/local/lib/python3.7/dist-packages (from torchvision) (2.23.0)\n",
            "Requirement already satisfied: chardet<4,>=3.0.2 in /usr/local/lib/python3.7/dist-packages (from requests->torchvision) (3.0.4)\n",
            "Requirement already satisfied: idna<3,>=2.5 in /usr/local/lib/python3.7/dist-packages (from requests->torchvision) (2.10)\n",
            "Requirement already satisfied: certifi>=2017.4.17 in /usr/local/lib/python3.7/dist-packages (from requests->torchvision) (2022.5.18.1)\n",
            "Requirement already satisfied: urllib3!=1.25.0,!=1.25.1,<1.26,>=1.21.1 in /usr/local/lib/python3.7/dist-packages (from requests->torchvision) (1.24.3)\n"
          ]
        }
      ]
    },
    {
      "cell_type": "code",
      "source": [
        "!apt install libnvrtc8.0\n",
        "!pip install mxnet-cu80\n"
      ],
      "metadata": {
        "colab": {
          "base_uri": "https://localhost:8080/"
        },
        "id": "TL5eMwdWY9ld",
        "outputId": "8e959bf0-dc90-47cb-a00f-9355d87edb98"
      },
      "execution_count": 31,
      "outputs": [
        {
          "output_type": "stream",
          "name": "stdout",
          "text": [
            "Reading package lists... Done\n",
            "Building dependency tree       \n",
            "Reading state information... Done\n",
            "E: Unable to locate package libnvrtc8.0\n",
            "E: Couldn't find any package by glob 'libnvrtc8.0'\n",
            "E: Couldn't find any package by regex 'libnvrtc8.0'\n",
            "Looking in indexes: https://pypi.org/simple, https://us-python.pkg.dev/colab-wheels/public/simple/\n",
            "Collecting mxnet-cu80\n",
            "  Downloading mxnet_cu80-1.5.0-py2.py3-none-manylinux1_x86_64.whl (372.1 MB)\n",
            "\u001b[K     |████████████████████████████████| 372.1 MB 39 kB/s \n",
            "\u001b[?25hRequirement already satisfied: numpy<2.0.0,>1.16.0 in /usr/local/lib/python3.7/dist-packages (from mxnet-cu80) (1.21.6)\n",
            "Requirement already satisfied: requests<3,>=2.20.0 in /usr/local/lib/python3.7/dist-packages (from mxnet-cu80) (2.23.0)\n",
            "Collecting graphviz<0.9.0,>=0.8.1\n",
            "  Downloading graphviz-0.8.4-py2.py3-none-any.whl (16 kB)\n",
            "Requirement already satisfied: urllib3!=1.25.0,!=1.25.1,<1.26,>=1.21.1 in /usr/local/lib/python3.7/dist-packages (from requests<3,>=2.20.0->mxnet-cu80) (1.24.3)\n",
            "Requirement already satisfied: certifi>=2017.4.17 in /usr/local/lib/python3.7/dist-packages (from requests<3,>=2.20.0->mxnet-cu80) (2022.5.18.1)\n",
            "Requirement already satisfied: chardet<4,>=3.0.2 in /usr/local/lib/python3.7/dist-packages (from requests<3,>=2.20.0->mxnet-cu80) (3.0.4)\n",
            "Requirement already satisfied: idna<3,>=2.5 in /usr/local/lib/python3.7/dist-packages (from requests<3,>=2.20.0->mxnet-cu80) (2.10)\n",
            "Installing collected packages: graphviz, mxnet-cu80\n",
            "  Attempting uninstall: graphviz\n",
            "    Found existing installation: graphviz 0.10.1\n",
            "    Uninstalling graphviz-0.10.1:\n",
            "      Successfully uninstalled graphviz-0.10.1\n",
            "Successfully installed graphviz-0.8.4 mxnet-cu80-1.5.0\n"
          ]
        }
      ]
    },
    {
      "cell_type": "code",
      "source": [
        "!pip install h5py\n",
        "!pip install typing-extensions\n",
        "!pip install wheel"
      ],
      "metadata": {
        "colab": {
          "base_uri": "https://localhost:8080/"
        },
        "id": "tOk1UXOfdbRc",
        "outputId": "5e90b8ce-d08c-4cfe-bf74-1d4b3b05c23d"
      },
      "execution_count": 35,
      "outputs": [
        {
          "output_type": "stream",
          "name": "stdout",
          "text": [
            "Looking in indexes: https://pypi.org/simple, https://us-python.pkg.dev/colab-wheels/public/simple/\n",
            "Requirement already satisfied: h5py in /usr/local/lib/python3.7/dist-packages (3.1.0)\n",
            "Requirement already satisfied: numpy>=1.14.5 in /usr/local/lib/python3.7/dist-packages (from h5py) (1.21.6)\n",
            "Requirement already satisfied: cached-property in /usr/local/lib/python3.7/dist-packages (from h5py) (1.5.2)\n",
            "Looking in indexes: https://pypi.org/simple, https://us-python.pkg.dev/colab-wheels/public/simple/\n",
            "Requirement already satisfied: typing-extensions in /usr/local/lib/python3.7/dist-packages (4.2.0)\n",
            "Looking in indexes: https://pypi.org/simple, https://us-python.pkg.dev/colab-wheels/public/simple/\n",
            "Requirement already satisfied: wheel in /usr/local/lib/python3.7/dist-packages (0.37.1)\n"
          ]
        }
      ]
    },
    {
      "cell_type": "code",
      "source": [
        "!apt-get -qq install -y libsm6 libxext6 && pip install -q -U opencv-python"
      ],
      "metadata": {
        "id": "K3yRS0rZc1bD"
      },
      "execution_count": 36,
      "outputs": []
    },
    {
      "cell_type": "code",
      "source": [
        "!pip install -q xgboost==0.4a30"
      ],
      "metadata": {
        "colab": {
          "base_uri": "https://localhost:8080/"
        },
        "id": "LMpbJtcHdoSJ",
        "outputId": "ad933cbf-80c5-4c96-a1c9-17110b4aac2c"
      },
      "execution_count": 37,
      "outputs": [
        {
          "output_type": "stream",
          "name": "stdout",
          "text": [
            "\u001b[?25l\r\u001b[K     |▍                               | 10 kB 28.8 MB/s eta 0:00:01\r\u001b[K     |▉                               | 20 kB 12.2 MB/s eta 0:00:01\r\u001b[K     |█▎                              | 30 kB 9.0 MB/s eta 0:00:01\r\u001b[K     |█▊                              | 40 kB 8.0 MB/s eta 0:00:01\r\u001b[K     |██▏                             | 51 kB 4.6 MB/s eta 0:00:01\r\u001b[K     |██▋                             | 61 kB 5.4 MB/s eta 0:00:01\r\u001b[K     |███                             | 71 kB 5.5 MB/s eta 0:00:01\r\u001b[K     |███▌                            | 81 kB 5.3 MB/s eta 0:00:01\r\u001b[K     |████                            | 92 kB 5.8 MB/s eta 0:00:01\r\u001b[K     |████▍                           | 102 kB 5.2 MB/s eta 0:00:01\r\u001b[K     |████▉                           | 112 kB 5.2 MB/s eta 0:00:01\r\u001b[K     |█████▏                          | 122 kB 5.2 MB/s eta 0:00:01\r\u001b[K     |█████▋                          | 133 kB 5.2 MB/s eta 0:00:01\r\u001b[K     |██████                          | 143 kB 5.2 MB/s eta 0:00:01\r\u001b[K     |██████▌                         | 153 kB 5.2 MB/s eta 0:00:01\r\u001b[K     |███████                         | 163 kB 5.2 MB/s eta 0:00:01\r\u001b[K     |███████▍                        | 174 kB 5.2 MB/s eta 0:00:01\r\u001b[K     |███████▉                        | 184 kB 5.2 MB/s eta 0:00:01\r\u001b[K     |████████▎                       | 194 kB 5.2 MB/s eta 0:00:01\r\u001b[K     |████████▊                       | 204 kB 5.2 MB/s eta 0:00:01\r\u001b[K     |█████████▏                      | 215 kB 5.2 MB/s eta 0:00:01\r\u001b[K     |█████████▋                      | 225 kB 5.2 MB/s eta 0:00:01\r\u001b[K     |██████████                      | 235 kB 5.2 MB/s eta 0:00:01\r\u001b[K     |██████████▍                     | 245 kB 5.2 MB/s eta 0:00:01\r\u001b[K     |██████████▉                     | 256 kB 5.2 MB/s eta 0:00:01\r\u001b[K     |███████████▎                    | 266 kB 5.2 MB/s eta 0:00:01\r\u001b[K     |███████████▊                    | 276 kB 5.2 MB/s eta 0:00:01\r\u001b[K     |████████████▏                   | 286 kB 5.2 MB/s eta 0:00:01\r\u001b[K     |████████████▋                   | 296 kB 5.2 MB/s eta 0:00:01\r\u001b[K     |█████████████                   | 307 kB 5.2 MB/s eta 0:00:01\r\u001b[K     |█████████████▌                  | 317 kB 5.2 MB/s eta 0:00:01\r\u001b[K     |██████████████                  | 327 kB 5.2 MB/s eta 0:00:01\r\u001b[K     |██████████████▍                 | 337 kB 5.2 MB/s eta 0:00:01\r\u001b[K     |██████████████▉                 | 348 kB 5.2 MB/s eta 0:00:01\r\u001b[K     |███████████████▏                | 358 kB 5.2 MB/s eta 0:00:01\r\u001b[K     |███████████████▋                | 368 kB 5.2 MB/s eta 0:00:01\r\u001b[K     |████████████████                | 378 kB 5.2 MB/s eta 0:00:01\r\u001b[K     |████████████████▌               | 389 kB 5.2 MB/s eta 0:00:01\r\u001b[K     |█████████████████               | 399 kB 5.2 MB/s eta 0:00:01\r\u001b[K     |█████████████████▍              | 409 kB 5.2 MB/s eta 0:00:01\r\u001b[K     |█████████████████▉              | 419 kB 5.2 MB/s eta 0:00:01\r\u001b[K     |██████████████████▎             | 430 kB 5.2 MB/s eta 0:00:01\r\u001b[K     |██████████████████▊             | 440 kB 5.2 MB/s eta 0:00:01\r\u001b[K     |███████████████████▏            | 450 kB 5.2 MB/s eta 0:00:01\r\u001b[K     |███████████████████▋            | 460 kB 5.2 MB/s eta 0:00:01\r\u001b[K     |████████████████████            | 471 kB 5.2 MB/s eta 0:00:01\r\u001b[K     |████████████████████▍           | 481 kB 5.2 MB/s eta 0:00:01\r\u001b[K     |████████████████████▉           | 491 kB 5.2 MB/s eta 0:00:01\r\u001b[K     |█████████████████████▎          | 501 kB 5.2 MB/s eta 0:00:01\r\u001b[K     |█████████████████████▊          | 512 kB 5.2 MB/s eta 0:00:01\r\u001b[K     |██████████████████████▏         | 522 kB 5.2 MB/s eta 0:00:01\r\u001b[K     |██████████████████████▋         | 532 kB 5.2 MB/s eta 0:00:01\r\u001b[K     |███████████████████████         | 542 kB 5.2 MB/s eta 0:00:01\r\u001b[K     |███████████████████████▌        | 552 kB 5.2 MB/s eta 0:00:01\r\u001b[K     |████████████████████████        | 563 kB 5.2 MB/s eta 0:00:01\r\u001b[K     |████████████████████████▍       | 573 kB 5.2 MB/s eta 0:00:01\r\u001b[K     |████████████████████████▉       | 583 kB 5.2 MB/s eta 0:00:01\r\u001b[K     |█████████████████████████▏      | 593 kB 5.2 MB/s eta 0:00:01\r\u001b[K     |█████████████████████████▋      | 604 kB 5.2 MB/s eta 0:00:01\r\u001b[K     |██████████████████████████      | 614 kB 5.2 MB/s eta 0:00:01\r\u001b[K     |██████████████████████████▌     | 624 kB 5.2 MB/s eta 0:00:01\r\u001b[K     |███████████████████████████     | 634 kB 5.2 MB/s eta 0:00:01\r\u001b[K     |███████████████████████████▍    | 645 kB 5.2 MB/s eta 0:00:01\r\u001b[K     |███████████████████████████▉    | 655 kB 5.2 MB/s eta 0:00:01\r\u001b[K     |████████████████████████████▎   | 665 kB 5.2 MB/s eta 0:00:01\r\u001b[K     |████████████████████████████▊   | 675 kB 5.2 MB/s eta 0:00:01\r\u001b[K     |█████████████████████████████▏  | 686 kB 5.2 MB/s eta 0:00:01\r\u001b[K     |█████████████████████████████▋  | 696 kB 5.2 MB/s eta 0:00:01\r\u001b[K     |██████████████████████████████  | 706 kB 5.2 MB/s eta 0:00:01\r\u001b[K     |██████████████████████████████▍ | 716 kB 5.2 MB/s eta 0:00:01\r\u001b[K     |██████████████████████████████▉ | 727 kB 5.2 MB/s eta 0:00:01\r\u001b[K     |███████████████████████████████▎| 737 kB 5.2 MB/s eta 0:00:01\r\u001b[K     |███████████████████████████████▊| 747 kB 5.2 MB/s eta 0:00:01\r\u001b[K     |████████████████████████████████| 753 kB 5.2 MB/s \n",
            "\u001b[?25h  Building wheel for xgboost (setup.py) ... \u001b[?25l\u001b[?25hdone\n"
          ]
        }
      ]
    },
    {
      "cell_type": "code",
      "source": [
        "!apt-get -qq install -y graphviz && pip install -q pydot"
      ],
      "metadata": {
        "id": "uij82aLheEHF"
      },
      "execution_count": 38,
      "outputs": []
    },
    {
      "cell_type": "code",
      "source": [
        "!python3 \"/content/sample_data/mnist_test.csv\""
      ],
      "metadata": {
        "id": "GdHuC2NCesoy"
      },
      "execution_count": 5,
      "outputs": []
    },
    {
      "cell_type": "code",
      "source": [
        "# Run this cell to mount your Google Drive.\n",
        "from google.colab import drive\n",
        "drive.mount('/content/drive')"
      ],
      "metadata": {
        "colab": {
          "base_uri": "https://localhost:8080/"
        },
        "id": "ELISLTWWfMEg",
        "outputId": "2d694681-51ce-4414-ae8f-6f29adfde3f6"
      },
      "execution_count": 2,
      "outputs": [
        {
          "output_type": "stream",
          "name": "stdout",
          "text": [
            "Mounted at /content/drive\n"
          ]
        }
      ]
    },
    {
      "cell_type": "code",
      "source": [
        "!git clone https://github.com/wxs/keras-mnist-tutorial.git\n"
      ],
      "metadata": {
        "colab": {
          "base_uri": "https://localhost:8080/"
        },
        "id": "fAjGiAg0h0C8",
        "outputId": "5a4de4d9-34c0-420a-ad65-17feb3bdab31"
      },
      "execution_count": 6,
      "outputs": [
        {
          "output_type": "stream",
          "name": "stdout",
          "text": [
            "Cloning into 'keras-mnist-tutorial'...\n",
            "remote: Enumerating objects: 26, done.\u001b[K\n",
            "remote: Total 26 (delta 0), reused 0 (delta 0), pack-reused 26\u001b[K\n",
            "Unpacking objects: 100% (26/26), done.\n"
          ]
        }
      ]
    }
  ]
}